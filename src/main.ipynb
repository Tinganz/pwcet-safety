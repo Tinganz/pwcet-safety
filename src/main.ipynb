{
 "cells": [
  {
   "cell_type": "code",
   "execution_count": 1,
   "metadata": {},
   "outputs": [
    {
     "name": "stderr",
     "output_type": "stream",
     "text": [
      "\u001b[36m\u001b[1m[ \u001b[22m\u001b[39m\u001b[36m\u001b[1mInfo: \u001b[22m\u001b[39mPrecompiling Experiments [top-level]\n",
      "\u001b[36m\u001b[1m[ \u001b[22m\u001b[39m\u001b[36m\u001b[1mInfo: \u001b[22m\u001b[39mPrecompiling ControlVariates [top-level]\n"
     ]
    }
   ],
   "source": [
    "using DataFrames\n",
    "using ControlSystemsBase\n",
    "using Statistics\n",
    "using Distributions\n",
    "using Plots\n",
    "using JLD\n",
    "using GLM\n",
    "\n",
    "using RealTimeScheduling\n",
    "using ControlTimingSafety\n",
    "\n",
    "push!(LOAD_PATH, \"../lib\")\n",
    "using Experiments\n",
    "using Benchmarks\n",
    "using ControlVariates"
   ]
  },
  {
   "cell_type": "markdown",
   "metadata": {
    "jp-MarkdownHeadingCollapsed": true,
    "tags": []
   },
   "source": [
    "## SHT\n",
    "\n",
    "Questions regarding sample size and prior belief for SHT is discussed in this section. The key points are summarized below:\n",
    "\n",
    "|   B    | type-I error |   c    |  Original K  |    K    |  Original K / K  |\n",
    "| ------ | ------------ | ------ | ------------ | ------- | ---------------- |\n",
    "| 100    | 0.497        | 0.99   | 459.20       | 69.47   | 6.61             |\n",
    "| 100    | 0.497        | 1-1e-5 | 4.62e5       | 99.95   | 4617.38          |\n",
    "| 4.15e5 | 0.000238     | 0.99   | 1287.12      | 829.94  | 1.55             |\n",
    "| 4.15e5 | 0.000238     | 1-1e-5 | 1.2936e6     | 1.639e5 | 7.89             |\n"
   ]
  },
  {
   "cell_type": "markdown",
   "metadata": {
    "tags": []
   },
   "source": [
    "**Questions regarding prior belief**\n",
    "\n",
    "The issue about equal prior belief for $H_0$ and $H_1$: recall that given deviation upper bound $d_{ub}$, confidence level $c$, and the set of all possible samples $X$, the two hypothesis are defined as follows:\n",
    "$$\n",
    "\\DeclareMathOperator{\\dev}{Deviation}\n",
    "H_0: Pr(\\dev(x) < d_{ub} | x \\in X) < c \\\\\n",
    "H_1: Pr(\\dev(x) < d_{ub} | x \\in X) > c\n",
    "$$\n",
    "assuming that the sample $x$ is drawn uniformly from the set $X$.\n",
    "In the SHT paper, the Bayes Factor $B$ is used to compute $K$, the number of required samples to draw to give \n",
    "\n",
    "\\begin{align}\n",
    "\\frac{Pr(H_1)}{Pr(H_0)} B &= \\frac{Pr(H_1|Data)}{Pr(H_0|Data)} \\\\\n",
    "\\frac{Pr(H_1)}{Pr(H_0)} B &= \\frac{\\frac{Pr(Data|H_1)Pr(H_1)}{Pr(Data)}}{\\frac{Pr(Data|H_0)Pr(H_0)}{Pr(Data)}} \\\\\n",
    "B &= \\frac{Pr(Data|H_1)}{Pr(Data|H_0)} \\\\\n",
    "B &= \\frac{\\int_c^1 P(Data|\\theta=q, H_1) f_{\\theta|H_1}(q)dq}\n",
    "          {\\int_0^c P(Data|\\theta=q, H_0) f_{\\theta|H_0}(q)dq} \\\\\n",
    "B &= \\frac{\\int_c^1 P(Data|\\theta=q, H_1) \\frac{1}{1-c} dq}\n",
    "          {\\int_0^c P(Data|\\theta=q, H_0) \\frac{1}{c} dq} \\\\\n",
    "B &= \\frac{c \\int_c^1 q^K dq}\n",
    "          {(1-c) \\int_0^c q^K dq} \\\\\n",
    "\\frac{1-c}{c} B &= \\frac{\\int_c^1 q^K dq}\n",
    "                        {\\int_0^c q^K dq} \\\\\n",
    "K &= -\\log_c(\\frac{1-c}{c}B + 1)\n",
    "\\end{align}\n",
    "\n",
    "A factor of $\\frac{1-c}{c}$ is missing from within the logarithm function, and will cause more samples to be drawn than intended.\n",
    "\n",
    "Traditionally, a Bayes factor $B$ of $100$ is considered extreme evidence favoring the alternative hypothesis. However, the paper we are based on states the type-I error is expressed by\n",
    "$$\n",
    "err = \\frac{c}{c(1-c)B}\n",
    "$$\n",
    "Which is ~$.497$ when $B=100$, and ~$.000238$ when $B=4.15*10^5$:"
   ]
  },
  {
   "cell_type": "code",
   "execution_count": 2,
   "metadata": {
    "tags": []
   },
   "outputs": [
    {
     "name": "stderr",
     "output_type": "stream",
     "text": [
      "\u001b[36m\u001b[1m┌ \u001b[22m\u001b[39m\u001b[36m\u001b[1mInfo: \u001b[22m\u001b[39mComparison of error with B=100 versus B=4.15e5: \n",
      "\u001b[36m\u001b[1m│ \u001b[22m\u001b[39m  e = 0.4974874371859294\n",
      "\u001b[36m\u001b[1m└ \u001b[22m\u001b[39m  e_og = 0.00023849732232551733\n"
     ]
    }
   ],
   "source": [
    "let\n",
    "    c = 0.99\n",
    "    B = 100\n",
    "    e = c/(c+(1-c)*B)\n",
    "    B_og = 4.15e5\n",
    "    e_og = c/(c+(1-c)*B_og)\n",
    "    @info \"Comparison of error with B=100 versus B=4.15e5: \" e e_og\n",
    "end"
   ]
  },
  {
   "cell_type": "markdown",
   "metadata": {
    "tags": []
   },
   "source": [
    "Next, we compare the original $K$ values from the paper versus the new $K$ values with the missing factor."
   ]
  },
  {
   "cell_type": "code",
   "execution_count": 7,
   "metadata": {
    "tags": []
   },
   "outputs": [
    {
     "data": {
      "text/plain": [
       "7×4 Matrix{Float64}:\n",
       " 0.9        122.779          101.925      1.2046\n",
       " 0.99      1287.12           829.938      1.55087\n",
       " 0.999    12929.6           6028.67       2.14468\n",
       " 0.9999       1.29354e5    37494.1        3.44998\n",
       " 0.99999      1.2936e6         1.639e5    7.89262\n",
       " 1.0          1.2936e11        4.14991e5  3.11718e5\n",
       " 1.0          1.29464e16  415000.0        3.11961e10"
      ]
     },
     "execution_count": 7,
     "metadata": {},
     "output_type": "execute_result"
    }
   ],
   "source": [
    "let\n",
    "    B = 4.15e5\n",
    "    c = [0.9, 0.99, 0.999, 0.9999, 1-1e-5, 1-1e-10, 1-1e-15]\n",
    "    K_og = -log.(c, B + 1)\n",
    "    K    = -log.(c, (1 .- c) ./ c * B .+ 1)\n",
    "\n",
    "    [c K_og K K_og./K]\n",
    "end"
   ]
  },
  {
   "cell_type": "markdown",
   "metadata": {},
   "source": [
    "Finally we compare the $K$ values with $B=100$"
   ]
  },
  {
   "cell_type": "code",
   "execution_count": 8,
   "metadata": {
    "tags": []
   },
   "outputs": [
    {
     "data": {
      "text/plain": [
       "7×4 Matrix{Float64}:\n",
       " 0.9         43.8031       23.6723     1.8504\n",
       " 0.99       459.201        69.4688     6.61017\n",
       " 0.999     4612.81         95.3535    48.3759\n",
       " 0.9999   46148.9          99.5082   463.77\n",
       " 0.99999      4.6151e5     99.9505  4617.38\n",
       " 1.0          4.61512e10  100.0        4.61512e8\n",
       " 1.0          4.61881e15  100.0        4.61881e13"
      ]
     },
     "execution_count": 8,
     "metadata": {},
     "output_type": "execute_result"
    }
   ],
   "source": [
    "let\n",
    "    B = 100\n",
    "    c = [0.9, 0.99, 0.999, 0.9999, 1-1e-5, 1-1e-10, 1-1e-15]\n",
    "    K_og = -log.(c, B + 1)\n",
    "    K    = -log.(c, (1 .- c) ./ c * B .+ 1)\n",
    "\n",
    "    [c K_og K K_og./K]\n",
    "end"
   ]
  },
  {
   "cell_type": "markdown",
   "metadata": {},
   "source": [
    "## Experiments\n",
    "\n",
    "Setting parameters for the experiment:"
   ]
  },
  {
   "cell_type": "code",
   "execution_count": 10,
   "metadata": {},
   "outputs": [
    {
     "data": {
      "text/plain": [
       "3-element Vector{Float64}:\n",
       " 1.0\n",
       " 1.0\n",
       " 0.0"
      ]
     },
     "execution_count": 10,
     "metadata": {},
     "output_type": "execute_result"
    }
   ],
   "source": [
    "H = 100\n",
    "c = 0.99\n",
    "B = 4.15e5\n",
    "h = 0.02\n",
    "sys = benchmarks[:F1T]\n",
    "x0 = 1.\n",
    "u0 = 0.\n",
    "z0 = [fill(x0, size(sys.A, 1)); u0]"
   ]
  },
  {
   "cell_type": "markdown",
   "metadata": {
    "tags": []
   },
   "source": [
    "### System Dynamics\n",
    "\n",
    "Open-loop stable system (RC network):\n",
    "$$\n",
    "\\mathbf{\\dot{x}}(t) = \\begin{bmatrix} -6.0 & 1.0 \\\\ 0.2 & -0.7 \\end{bmatrix} \\mathbf{x}(t) +\n",
    "\\begin{bmatrix} 5.0 \\\\ 0.5 \\end{bmatrix} u(t)\n",
    "$$\n",
    "where\n",
    "$$\n",
    "\\mathbf{x}(t) = \\begin{bmatrix} x_1(t) \\\\ x_2(t) \\end{bmatrix}\n",
    "$$\n",
    "is the system state and $u(t)$ is the control input.\n",
    "\n",
    "We also have a open-loop unstable system (F1 tenth):\n",
    "$$\n",
    "\\mathbf{\\dot{x}}(t) = \\begin{bmatrix} 0 & 6.5 \\\\ 0 & 0 \\end{bmatrix} \\mathbf{x}(t) +\n",
    "\\begin{bmatrix} 0 \\\\ 19.685 \\end{bmatrix} u(t)\n",
    "$$"
   ]
  },
  {
   "cell_type": "code",
   "execution_count": 9,
   "metadata": {
    "collapsed": true,
    "jupyter": {
     "outputs_hidden": true
    },
    "tags": []
   },
   "outputs": [
    {
     "data": {
      "text/plain": [
       "(StateSpace{ControlSystemsBase.Continuous, Float64}\n",
       "A = \n",
       " -6.0   1.0\n",
       "  0.2  -0.7\n",
       "B = \n",
       " 5.0\n",
       " 0.5\n",
       "C = \n",
       " 1.0  0.0\n",
       " 0.0  1.0\n",
       "D = \n",
       " 0.0\n",
       " 0.0\n",
       "\n",
       "Continuous-time state-space model, StateSpace{ControlSystemsBase.Continuous, Float64}\n",
       "A = \n",
       " 0.0  6.5\n",
       " 0.0  0.0\n",
       "B = \n",
       "  0.0\n",
       " 19.68503937007874\n",
       "C = \n",
       " 1.0  0.0\n",
       "D = \n",
       " 0.0\n",
       "\n",
       "Continuous-time state-space model)"
      ]
     },
     "metadata": {},
     "output_type": "display_data"
    }
   ],
   "source": [
    "benchmarks[:RCN], benchmarks[:F1T]"
   ]
  },
  {
   "cell_type": "code",
   "execution_count": 11,
   "metadata": {},
   "outputs": [
    {
     "data": {
      "text/plain": [
       "Automaton(AbstractMatrix{Float64}[[1.0 0.12999999999999998 0.02559055118110236; 0.0 1.0 0.39370078740157477; -0.582977923541146 -0.9271753376618662 -0.3501109341069651], [1.0 0.12999999999999998 0.02559055118110236; 0.0 1.0 0.39370078740157477; 0.0 0.0 1.0]], Union{Missing, Int64}[1 1], Union{Missing, Int64}[1 2], 1, [1.0 0.0 0.0])"
      ]
     },
     "execution_count": 11,
     "metadata": {},
     "output_type": "execute_result"
    }
   ],
   "source": [
    "# Construct an automaton with no constraint\n",
    "a = hold_kill(c2d(sys, h), delay_lqr(sys, h))"
   ]
  },
  {
   "cell_type": "markdown",
   "metadata": {
    "tags": []
   },
   "source": [
    "### Simulations\n",
    "\n",
    "We first sample sequences of length H=100 where each deadline has p=0.9 chance to hit."
   ]
  },
  {
   "cell_type": "code",
   "execution_count": 13,
   "metadata": {},
   "outputs": [
    {
     "data": {
      "text/plain": [
       "90.39"
      ]
     },
     "execution_count": 13,
     "metadata": {},
     "output_type": "execute_result"
    }
   ],
   "source": [
    "sp = SamplerPWCET(0.9, 100)\n",
    "mean([sum(rand(sp)) for i in 1:100])"
   ]
  },
  {
   "cell_type": "markdown",
   "metadata": {},
   "source": [
    "Generate 100k samples:"
   ]
  },
  {
   "cell_type": "code",
   "execution_count": 11,
   "metadata": {},
   "outputs": [
    {
     "data": {
      "text/plain": [
       "100000-element Vector{Tuple{BitVector, Float64}}:\n",
       " ([1, 1, 1, 1, 1, 1, 1, 1, 1, 1  …  0, 0, 1, 0, 1, 1, 0, 0, 0, 1], 0.0019491733954738418)\n",
       " ([1, 1, 1, 1, 1, 1, 1, 1, 1, 1  …  0, 1, 1, 1, 1, 1, 0, 0, 1, 0], 0.002513510364079645)\n",
       " ([1, 1, 1, 1, 1, 1, 1, 1, 1, 1  …  0, 0, 1, 1, 1, 1, 0, 0, 1, 0], 0.002722228324649051)\n",
       " ([1, 1, 1, 1, 1, 1, 1, 1, 1, 1  …  1, 0, 1, 0, 1, 1, 0, 0, 0, 1], 0.0028051305506098323)\n",
       " ([1, 1, 1, 1, 1, 1, 1, 1, 1, 1  …  0, 0, 1, 0, 1, 1, 1, 1, 0, 1], 0.0029412732882160854)\n",
       " ([1, 1, 1, 1, 1, 1, 1, 1, 1, 0  …  0, 1, 1, 0, 1, 0, 0, 0, 1, 1], 0.0032532663865622)\n",
       " ([1, 1, 1, 1, 1, 1, 1, 1, 1, 1  …  1, 1, 0, 1, 1, 1, 1, 1, 0, 1], 0.0036528180348898123)\n",
       " ([1, 1, 1, 1, 1, 1, 1, 1, 1, 0  …  1, 0, 0, 1, 0, 1, 1, 1, 1, 0], 0.003725916900491611)\n",
       " ([1, 1, 1, 1, 1, 1, 1, 1, 1, 0  …  1, 1, 1, 0, 1, 0, 0, 1, 1, 1], 0.0037619126506301275)\n",
       " ([1, 1, 1, 1, 1, 1, 1, 1, 1, 1  …  1, 0, 1, 0, 1, 1, 0, 0, 0, 0], 0.0038289697393772944)\n",
       " ⋮\n",
       " ([1, 0, 0, 0, 0, 0, 0, 0, 0, 0  …  0, 0, 0, 0, 0, 0, 1, 0, 0, 0], 7.187306681400087)\n",
       " ([0, 0, 0, 1, 0, 0, 0, 0, 0, 0  …  1, 1, 1, 1, 0, 1, 0, 0, 0, 0], 7.934489886699796)\n",
       " ([0, 0, 0, 0, 1, 0, 0, 0, 0, 0  …  1, 0, 1, 0, 0, 0, 0, 1, 1, 1], 8.274899451409068)\n",
       " ([1, 1, 0, 0, 0, 0, 0, 0, 0, 0  …  0, 1, 1, 0, 0, 1, 1, 0, 1, 0], 8.532984791118709)\n",
       " ([0, 1, 0, 0, 0, 0, 0, 0, 0, 1  …  0, 1, 0, 1, 1, 1, 1, 1, 0, 1], 8.658893001730231)\n",
       " ([0, 0, 0, 0, 0, 1, 0, 0, 0, 0  …  0, 1, 0, 0, 0, 1, 1, 1, 0, 1], 8.713533070054684)\n",
       " ([0, 0, 0, 1, 0, 0, 0, 0, 0, 0  …  1, 0, 0, 0, 1, 0, 1, 0, 1, 1], 9.298797996169222)\n",
       " ([1, 0, 0, 0, 0, 0, 0, 0, 0, 0  …  0, 1, 0, 0, 0, 1, 0, 1, 0, 1], 11.677366201249233)\n",
       " ([1, 0, 0, 0, 0, 0, 0, 0, 0, 0  …  0, 1, 0, 1, 0, 0, 0, 1, 0, 1], 11.790004344835728)"
      ]
     },
     "metadata": {},
     "output_type": "display_data"
    }
   ],
   "source": [
    "n = 100000\n",
    "@time res99 = generate_samples(a, z0, 0.99, n)\n",
    "@time res90 = generate_samples(a, z0, 0.90, n)\n",
    "@time res50 = generate_samples(a, z0, 0.50, n)\n",
    "@time res10 = generate_samples(a, z0, 0.10, n)"
   ]
  },
  {
   "cell_type": "code",
   "execution_count": null,
   "metadata": {},
   "outputs": [],
   "source": [
    "save(\"../data/res99.jld\", \"res99\", res99)\n",
    "save(\"../data/res99.jld\", \"res90\", res90)\n",
    "save(\"../data/res50.jld\", \"res50\", res50)\n",
    "save(\"../data/res50.jld\", \"res10\", res10)"
   ]
  },
  {
   "cell_type": "code",
   "execution_count": null,
   "metadata": {},
   "outputs": [],
   "source": [
    "devs99 = map(x -> x[2], res99)\n",
    "sigm99 = map(x -> x[1], res99);"
   ]
  },
  {
   "cell_type": "code",
   "execution_count": null,
   "metadata": {},
   "outputs": [],
   "source": [
    "map(filter(x -> misstotal(x[1]) < 3, res99)) do x\n",
    "    (missfirst(x[1]), x[2])\n",
    "end"
   ]
  },
  {
   "cell_type": "code",
   "execution_count": null,
   "metadata": {},
   "outputs": [],
   "source": [
    "map(collect(filter(x -> misstotal(x[1]) < 3, res99))[end-3:end]) do x\n",
    "    println(x[1], x[2])\n",
    "end"
   ]
  },
  {
   "cell_type": "code",
   "execution_count": null,
   "metadata": {
    "tags": []
   },
   "outputs": [],
   "source": [
    "res = res90\n",
    "devs = map(x -> x[2], res)\n",
    "σs = map(x -> x[1], res)\n",
    "σs3 = map(x -> x[1:3], σs)\n",
    "σs5 = map(x -> x[1:5], σs)\n",
    "σs7 = map(x -> x[1:7], σs)\n",
    "σsx = map(x -> x[1:10], σs)\n",
    "σx = σs7\n",
    "p1 = plot(devs, (1:length(res)) ./ length(res), \n",
    "    xlabel=\"Deviation\", ylabel=\"Probability\", label=\"cdf\", title=\"p=0.10\")\n",
    "p2 = plot(missrow.(σx), devs,\n",
    "    ylabel=\"Deviation\", xlabel=\"Consecutive Misses\", label=\"p=0.9\")\n",
    "p3 = plot(misstotal.(σx), devs,\n",
    "    ylabel=\"Deviation\", xlabel=\"Total Misses\")\n",
    "p4 = plot(missfirst.(σs), devs,\n",
    "    ylabel=\"Deviation\", xlabel=\"First Miss\")\n",
    "for c in [0.99]\n",
    "    dev = devs[round(Int64, length(res)*c)]\n",
    "    scatter!(p1, [dev], [c], label=\"99th quantile = $(round(dev, sigdigits=3))\")\n",
    "end\n",
    "println(length(res))\n",
    "savefig(p2, \"cv_cm_7.pdf\")\n",
    "savefig(p3, \"cv_tm_7.pdf\")\n",
    "display(p3)"
   ]
  },
  {
   "cell_type": "code",
   "execution_count": null,
   "metadata": {},
   "outputs": [],
   "source": [
    "for res in [res99, res90, res50, res10]\n",
    "    devs = map(x -> x[2], res)\n",
    "    dev = devs[round(Int64, length(res)*0.99)]\n",
    "    println(round.([dev, devs[end], dev/devs[end]], sigdigits=3))\n",
    "end"
   ]
  },
  {
   "cell_type": "markdown",
   "metadata": {
    "jp-MarkdownHeadingCollapsed": true,
    "tags": []
   },
   "source": [
    "### Deviation Estimation"
   ]
  },
  {
   "cell_type": "code",
   "execution_count": 10,
   "metadata": {},
   "outputs": [
    {
     "name": "stderr",
     "output_type": "stream",
     "text": [
      "┌ Info: 0.1\n",
      "│   sample_t = 3.218650817871094e-5\n",
      "│   devest_t = 28.934805393218994\n",
      "│   mind = 63729.60023799339\n",
      "│   maxd = 151435.40139364428\n",
      "└ @ Main /Users/tingan/pwcet-safety/src/main.ipynb:18\n",
      "┌ Info: 0.5\n",
      "│   sample_t = 2.1219253540039062e-5\n",
      "│   devest_t = 25.836893558502197\n",
      "│   mind = 2.7518499935486083\n",
      "│   maxd = 11.110563807188523\n",
      "└ @ Main /Users/tingan/pwcet-safety/src/main.ipynb:18\n",
      "┌ Info: 0.9\n",
      "│   sample_t = 2.4080276489257812e-5\n",
      "│   devest_t = 21.207319736480713\n",
      "│   mind = 0.36408893924524055\n",
      "│   maxd = 0.8886085544969886\n",
      "└ @ Main /Users/tingan/pwcet-safety/src/main.ipynb:18\n",
      "┌ Info: 0.99\n",
      "│   sample_t = 2.1219253540039062e-5\n",
      "│   devest_t = 16.67701029777527\n",
      "│   mind = 0.1786396896500381\n",
      "│   maxd = 0.36408893924524055\n",
      "└ @ Main /Users/tingan/pwcet-safety/src/main.ipynb:18\n"
     ]
    }
   ],
   "source": [
    "for p in [0.1, 0.5, 0.9, 0.99]\n",
    "    mind = Inf\n",
    "    maxd = 0.\n",
    "    sample_t = 0\n",
    "    devest_t = 0\n",
    "    for i in 1:50\n",
    "        t = time()\n",
    "        sp = SamplerPWCET(p, 100)\n",
    "        sample_t += time() - t\n",
    "\n",
    "        t = time()\n",
    "        dub = estimate_deviation(a, sp, z0, c, B)\n",
    "        devest_t += time() - t\n",
    "\n",
    "        mind = min(mind, dub)\n",
    "        maxd = max(maxd, dub)\n",
    "    end\n",
    "    @info p sample_t devest_t mind maxd\n",
    "end"
   ]
  },
  {
   "cell_type": "code",
   "execution_count": null,
   "metadata": {},
   "outputs": [],
   "source": [
    "for p in [0.1, 0.5, 0.9, 0.99]\n",
    "    mind = Inf\n",
    "    maxd = 0.\n",
    "    sample_t = 0\n",
    "    devest_t = 0\n",
    "    for i in 1:50\n",
    "        t = time()\n",
    "        sp = SamplerPWCET(p, 100)\n",
    "        sample_t += time() - t\n",
    "\n",
    "        t = time()\n",
    "        dub = estimate_deviation(a, sp, z0, c, B)\n",
    "        devest_t += time() - t\n",
    "\n",
    "        mind = min(mind, dub)\n",
    "        maxd = max(maxd, dub)\n",
    "    end\n",
    "    @info p sample_t devest_t mind maxd maxd/mind\n",
    "end"
   ]
  },
  {
   "cell_type": "code",
   "execution_count": null,
   "metadata": {},
   "outputs": [],
   "source": [
    "mind = Inf\n",
    "maxd = 0.\n",
    "x0 = 1.\n",
    "u0 = 0.\n",
    "for i in 1:50\n",
    "    sp = SamplerPWCET(0.4, 100)\n",
    "    # Construct an automaton with no constraint\n",
    "    a = hold_kill(c2d(sys, h), delay_lqr(sys, h))\n",
    "    dub = estimate_deviation(a, sp, [fill(x0, size(sys.A, 1)); u0], c, B)\n",
    "    mind = min(mind, dub)\n",
    "    maxd = max(maxd, dub)\n",
    "end\n",
    "mind, maxd"
   ]
  },
  {
   "cell_type": "code",
   "execution_count": null,
   "metadata": {},
   "outputs": [],
   "source": [
    "mind = Inf\n",
    "maxd = 0.\n",
    "sys = benchmarks[:F1T]\n",
    "x0 = 1.\n",
    "u0 = 0.\n",
    "for i in 1:50\n",
    "    sp = SamplerPWCET(0.9, 100)\n",
    "    # Construct an automaton with no constraint\n",
    "    a = hold_kill(c2d(sys, h), delay_lqr(sys, h))\n",
    "    dub = estimate_deviation(a, sp, [fill(x0, size(sys.A, 1)); u0], c, B)\n",
    "    mind = min(mind, dub)\n",
    "    maxd = max(maxd, dub)\n",
    "end\n",
    "mind, maxd"
   ]
  },
  {
   "cell_type": "code",
   "execution_count": null,
   "metadata": {},
   "outputs": [],
   "source": [
    "mind = Inf\n",
    "maxd = 0.\n",
    "sys = benchmarks[:F1T]\n",
    "x0 = 1.\n",
    "u0 = 0.\n",
    "for i in 1:50\n",
    "    sp = SamplerPWCET(0.99, 100)\n",
    "    # Construct an automaton with no constraint\n",
    "    a = hold_kill(c2d(sys, h), delay_lqr(sys, h))\n",
    "    dub = estimate_deviation(a, sp, [fill(x0, size(sys.A, 1)); u0], c, B)\n",
    "    mind = min(mind, dub)\n",
    "    maxd = max(maxd, dub)\n",
    "end\n",
    "mind, maxd"
   ]
  },
  {
   "cell_type": "markdown",
   "metadata": {
    "jp-MarkdownHeadingCollapsed": true,
    "tags": []
   },
   "source": [
    "### Likelihood Ratio Test"
   ]
  },
  {
   "cell_type": "markdown",
   "metadata": {},
   "source": [
    "\\begin{align}\n",
    "\\lambda_{LR} &=\\frac{\\sup_{\\theta_0\\in\\Theta_0}{L}(\\theta_0)}{\\sup_{\\theta\\in\\Theta}L(\\theta)} \\\\\n",
    "&= \\frac{\\binom{n}{x} \\theta_0^x (1-\\theta_0)^{n-x}}{\\binom{n}{x} \\theta^x (1-\\theta)^{n-x}} \\\\\n",
    "&= \\frac{\\theta_0^x (1-\\theta_0)^{n-x}}{ \\theta^x (1-\\theta)^{n-x}} \\\\\n",
    "&= \\left(\\frac{\\theta_0}{\\theta}\\right)^x + \\left(\\frac{1-\\theta_0}{1-\\theta}\\right)^{n-x}\n",
    "\\end{align}"
   ]
  },
  {
   "cell_type": "markdown",
   "metadata": {},
   "source": [
    "\\begin{align}\n",
    "&= -2 \\ln \\left[ \\frac{\\binom{n}{k} \\theta_0^x (1-\\theta_0)^{n-x}}{\\binom{n}{k} \\theta_1^x (1-\\theta_1)^{n-x}} \\right] \\\\\n",
    "&= -2 \\ln \\left[ \\frac{\\theta_0^x (1-\\theta_0)^{n-x}}{ \\theta_1^x (1-\\theta_1)^{n-x}} \\right] \\\\\n",
    "&= -2 (x \\ln \\frac{\\theta_0}{\\theta_1} + (n-x) \\ln \\frac{1-\\theta_0}{1-\\theta_1})\n",
    "\\end{align}"
   ]
  },
  {
   "cell_type": "code",
   "execution_count": null,
   "metadata": {},
   "outputs": [],
   "source": [
    "lr_test(0.99, 100, 99)"
   ]
  },
  {
   "cell_type": "code",
   "execution_count": null,
   "metadata": {},
   "outputs": [],
   "source": [
    "lr_test(0.99, 830, 830)"
   ]
  },
  {
   "cell_type": "code",
   "execution_count": null,
   "metadata": {},
   "outputs": [],
   "source": [
    "lr_test_2(0.99, 8782, 0.005)"
   ]
  },
  {
   "cell_type": "code",
   "execution_count": null,
   "metadata": {},
   "outputs": [],
   "source": [
    "lr_test_2(0.99, 46500, 0.002)"
   ]
  },
  {
   "cell_type": "markdown",
   "metadata": {},
   "source": [
    "Likelihood ratio with null hypothesis: true $\\theta$ is within a range (e.g., $[0.899, 0.991]$) instead of $\\theta>0.99$ vs $\\theta<0.99$."
   ]
  },
  {
   "cell_type": "code",
   "execution_count": null,
   "metadata": {},
   "outputs": [],
   "source": [
    "err = 0.000238497"
   ]
  },
  {
   "cell_type": "code",
   "execution_count": null,
   "metadata": {},
   "outputs": [],
   "source": [
    "n = 8782\n",
    "for p in [0.99, 0.90, 0.50, 0.10]\n",
    "    mind = Inf\n",
    "    maxd = 0.\n",
    "    devest_t = 0\n",
    "    for i in 1:50\n",
    "        t = time()\n",
    "        lrres = sim(σ p, n)\n",
    "        x = round(Int64, n * 0.99)\n",
    "        dev = lrres[x][2]\n",
    "        devest_t += time() - t\n",
    "        \n",
    "        mind = min(mind, dev)\n",
    "        maxd = max(maxd, dev)\n",
    "    end\n",
    "    @info p devest_t mind maxd maxd/mind\n",
    "end"
   ]
  },
  {
   "cell_type": "markdown",
   "metadata": {},
   "source": [
    "### Control Variate"
   ]
  },
  {
   "cell_type": "code",
   "execution_count": null,
   "metadata": {},
   "outputs": [],
   "source": [
    "# Using values from simulation\n",
    "\n",
    "res = res90\n",
    "devs = map(x -> x[2], res)\n",
    "σs = map(x -> x[1], res)\n",
    "σs5 = map(x -> x[1:10], σs)\n",
    "\n",
    "X = devs\n",
    "Y = missrow.(σs)\n",
    "Y5 = missrow.(σs5)\n",
    "Z = misstotal.(σs)\n",
    "Z5 = misstotal.(σs5)\n",
    "U = missfirst.(σs)\n",
    "\n",
    "data = DataFrame(Dev=X, CM=Y, TM=Z, FM=U, CM5=Y5, TM5=Z5)\n",
    "\n",
    "ols_y = lm(@formula(Dev ~ CM5), data)"
   ]
  },
  {
   "cell_type": "code",
   "execution_count": null,
   "metadata": {},
   "outputs": [],
   "source": [
    "ols_z = lm(@formula(Dev ~ TM5), data)"
   ]
  },
  {
   "cell_type": "code",
   "execution_count": null,
   "metadata": {},
   "outputs": [],
   "source": [
    "ols_u = lm(@formula(Dev ~ FM), data)"
   ]
  },
  {
   "cell_type": "code",
   "execution_count": null,
   "metadata": {},
   "outputs": [],
   "source": [
    "FcvW(0.1566, 10, res90, misstotal)"
   ]
  },
  {
   "cell_type": "code",
   "execution_count": 21,
   "metadata": {},
   "outputs": [
    {
     "data": {
      "text/plain": [
       "0.33958189067707595"
      ]
     },
     "metadata": {},
     "output_type": "display_data"
    }
   ],
   "source": [
    "x = inverse_fcv(0.99, 10, res90, misstotal)"
   ]
  },
  {
   "cell_type": "code",
   "execution_count": 24,
   "metadata": {},
   "outputs": [
    {
     "data": {
      "text/plain": [
       "0.33958189067707595"
      ]
     },
     "metadata": {},
     "output_type": "display_data"
    }
   ],
   "source": [
    "res90[99000][2]"
   ]
  },
  {
   "cell_type": "code",
   "execution_count": 91,
   "metadata": {},
   "outputs": [
    {
     "data": {
      "text/plain": [
       "3-element Vector{Float64}:\n",
       " 0.03825862867103018\n",
       " 0.07624068080786475\n",
       " 0.03798205213683457"
      ]
     },
     "metadata": {},
     "output_type": "display_data"
    }
   ],
   "source": [
    "confidence_interval(0.1, x, 0.01, 0.99, 9.997078246122365, res90, missfirst)"
   ]
  },
  {
   "cell_type": "code",
   "execution_count": 19,
   "metadata": {},
   "outputs": [
    {
     "data": {
      "text/plain": [
       "0.004974953778107482"
      ]
     },
     "metadata": {},
     "output_type": "display_data"
    }
   ],
   "source": [
    "Psi2_cv(x, 0.99, res50, misstotal)"
   ]
  },
  {
   "cell_type": "code",
   "execution_count": 86,
   "metadata": {},
   "outputs": [
    {
     "data": {
      "text/plain": [
       "9.95329"
      ]
     },
     "metadata": {},
     "output_type": "display_data"
    }
   ],
   "source": [
    "calculate_mean_miss(missfirst,res90)"
   ]
  },
  {
   "cell_type": "code",
   "execution_count": 87,
   "metadata": {},
   "outputs": [
    {
     "data": {
      "text/plain": [
       "9.997078246122365"
      ]
     },
     "metadata": {},
     "output_type": "display_data"
    }
   ],
   "source": [
    "(100*0.9^101-101*0.9^100+1)/0.1"
   ]
  },
  {
   "cell_type": "code",
   "execution_count": 114,
   "metadata": {},
   "outputs": [
    {
     "data": {
      "text/plain": [
       "2-element Vector{Int64}:\n",
       " 1\n",
       " 2"
      ]
     },
     "metadata": {},
     "output_type": "display_data"
    }
   ],
   "source": [
    "x=[1,2,3]\n",
    "y=x[1:2]"
   ]
  },
  {
   "cell_type": "code",
   "execution_count": 136,
   "metadata": {},
   "outputs": [
    {
     "data": {
      "text/plain": [
       "1000-element Vector{Tuple{BitVector, Float64}}:\n",
       " ([1, 1, 1, 1, 1, 1, 1, 1, 1, 1], 4.321294760989505e-6)\n",
       " ([1, 1, 1, 1, 1, 1, 1, 1, 1, 1], 2.021832394208139e-5)\n",
       " ([1, 1, 1, 1, 1, 1, 1, 1, 1, 1], 2.3544416229805675e-5)\n",
       " ([1, 1, 1, 1, 1, 1, 1, 1, 1, 1], 3.706448421820923e-5)\n",
       " ([1, 1, 1, 1, 1, 1, 1, 1, 1, 1], 4.306530571441756e-5)\n",
       " ([1, 1, 1, 1, 1, 1, 1, 1, 1, 1], 4.306530571441756e-5)\n",
       " ([1, 1, 1, 1, 1, 1, 1, 1, 1, 1], 4.306530571441756e-5)\n",
       " ([1, 1, 1, 1, 1, 1, 1, 1, 1, 1], 5.801510768620312e-5)\n",
       " ([1, 1, 1, 1, 1, 1, 1, 1, 1, 1], 5.801510768620312e-5)\n",
       " ([1, 1, 1, 1, 1, 1, 1, 1, 1, 1], 5.801510768620312e-5)\n",
       " ⋮\n",
       " ([0, 0, 1, 0, 1, 1, 1, 1, 1, 1], 0.31641176846173275)\n",
       " ([0, 0, 1, 0, 1, 1, 1, 1, 1, 1], 0.31641176846173275)\n",
       " ([0, 0, 1, 1, 0, 1, 1, 1, 1, 1], 0.34104067721635434)\n",
       " ([0, 0, 1, 1, 1, 0, 0, 0, 1, 1], 0.35691285380945076)\n",
       " ([0, 0, 1, 1, 1, 1, 1, 1, 0, 1], 0.36408893924524055)\n",
       " ([0, 0, 1, 1, 1, 1, 1, 0, 1, 1], 0.36408893924524055)\n",
       " ([0, 0, 1, 1, 1, 1, 0, 1, 0, 1], 0.36408893924524055)\n",
       " ([0, 0, 1, 1, 1, 1, 1, 1, 1, 1], 0.36408893924524055)\n",
       " ([0, 0, 0, 1, 1, 1, 1, 1, 1, 1], 0.556620683191605)"
      ]
     },
     "metadata": {},
     "output_type": "display_data"
    }
   ],
   "source": [
    "res = sim(a, z0, 0.9, 1000)\n",
    "res2 = Vector{Tuple{BitVector, Float64}}(undef, 1000)\n",
    "i = 1\n",
    "for(σ, deviation) in res\n",
    "    σs5 =  σ[1:10]\n",
    "    res2[i] = (σs5, deviation)\n",
    "    i += 1\n",
    "end\n",
    "i = 1\n",
    "res2"
   ]
  },
  {
   "cell_type": "code",
   "execution_count": 137,
   "metadata": {},
   "outputs": [
    {
     "name": "stdout",
     "output_type": "stream",
     "text": [
      "0.24909076298813280.2534311001521414"
     ]
    }
   ],
   "source": [
    "dev_CV = inverse_fcv(0.99, 1, res2, misstotal)\n",
    "dev_NMC = res[990][2]\n",
    "print(dev_NMC,dev_CV)"
   ]
  },
  {
   "cell_type": "code",
   "execution_count": 160,
   "metadata": {},
   "outputs": [
    {
     "data": {
      "text/plain": [
       "2-element Vector{BitVector}:\n",
       " [1, 1]\n",
       " [0, 1]"
      ]
     },
     "metadata": {},
     "output_type": "display_data"
    }
   ],
   "source": [
    "result = Vector{BitVector}(undef, 0)\n",
    "    previous = [[1],[0]]\n",
    "    for vector in previous\n",
    "        push!(vector, 1)\n",
    "        push!(result, vector)\n",
    "    end\n",
    "result"
   ]
  },
  {
   "cell_type": "code",
   "execution_count": 175,
   "metadata": {},
   "outputs": [
    {
     "data": {
      "text/plain": [
       "1024-element Vector{BitVector}:\n",
       " [1, 1, 1, 1, 1, 1, 1, 1, 1, 1]\n",
       " [1, 1, 1, 1, 1, 1, 1, 1, 1, 0]\n",
       " [1, 1, 1, 1, 1, 1, 1, 1, 0, 1]\n",
       " [1, 1, 1, 1, 1, 1, 1, 1, 0, 0]\n",
       " [1, 1, 1, 1, 1, 1, 1, 0, 1, 1]\n",
       " [1, 1, 1, 1, 1, 1, 1, 0, 1, 0]\n",
       " [1, 1, 1, 1, 1, 1, 1, 0, 0, 1]\n",
       " [1, 1, 1, 1, 1, 1, 1, 0, 0, 0]\n",
       " [1, 1, 1, 1, 1, 1, 0, 1, 1, 1]\n",
       " [1, 1, 1, 1, 1, 1, 0, 1, 1, 0]\n",
       " ⋮\n",
       " [0, 0, 0, 0, 0, 0, 1, 0, 0, 0]\n",
       " [0, 0, 0, 0, 0, 0, 0, 1, 1, 1]\n",
       " [0, 0, 0, 0, 0, 0, 0, 1, 1, 0]\n",
       " [0, 0, 0, 0, 0, 0, 0, 1, 0, 1]\n",
       " [0, 0, 0, 0, 0, 0, 0, 1, 0, 0]\n",
       " [0, 0, 0, 0, 0, 0, 0, 0, 1, 1]\n",
       " [0, 0, 0, 0, 0, 0, 0, 0, 1, 0]\n",
       " [0, 0, 0, 0, 0, 0, 0, 0, 0, 1]\n",
       " [0, 0, 0, 0, 0, 0, 0, 0, 0, 0]"
      ]
     },
     "metadata": {},
     "output_type": "display_data"
    }
   ],
   "source": [
    "bin_list(10)"
   ]
  },
  {
   "cell_type": "code",
   "execution_count": 185,
   "metadata": {},
   "outputs": [
    {
     "data": {
      "text/plain": [
       "0.7395658498000013"
      ]
     },
     "metadata": {},
     "output_type": "display_data"
    }
   ],
   "source": [
    "n = bin_list(10)\n",
    "d = [0.0,0.0,0.0,0.0,0.0,0.0,0.0,0.0,0.0,0.0]\n",
    "total = 0\n",
    "i = 1\n",
    "for vector in n\n",
    "    k = missrow(vector)\n",
    "    t = misstotal(vector)\n",
    "    if k != 0\n",
    "        d[k] += 0.1^(t)*0.9^(10-t)\n",
    "    end\n",
    "end\n",
    "for element in d\n",
    "    total += i*element\n",
    "    i+=1\n",
    "end\n",
    "total"
   ]
  },
  {
   "cell_type": "code",
   "execution_count": 181,
   "metadata": {},
   "outputs": [
    {
     "name": "stderr",
     "output_type": "stream",
     "text": [
      "┌ Info: 0.9\n",
      "│   mind_CV = 0.36408893924524055\n",
      "│   maxd_CV = 0.5802346517806395\n",
      "│   mind_NMC = 0.1838054388818805\n",
      "│   maxd_NMC = 0.36408893924524055\n",
      "└ @ Main /Users/tingan/pwcet-safety/src/main.ipynb:28\n"
     ]
    }
   ],
   "source": [
    "p = 0.9\n",
    "mind_NMC = Inf\n",
    "maxd_NMC = 0\n",
    "mind_CV = Inf\n",
    "maxd_CV = 0\n",
    "for i in 1:50\n",
    "    n = 10000\n",
    "    res = sim(a, z0, p, n)\n",
    "    res2 = Vector{Tuple{BitVector, Float64}}(undef, n)\n",
    "    k = 1\n",
    "    for(σ, deviation) in res\n",
    "        σs5 =  σ[1:10]\n",
    "        res2[k] = (σs5, deviation)\n",
    "        k += 1\n",
    "    end\n",
    "    k = 1\n",
    "\n",
    "    dev_CV = inverse_fcv(0.99, 0.7395658498000013, res2, missrow)\n",
    "\n",
    "    dev_NMC = res[Int(n*0.99)][2]\n",
    "\n",
    "    mind_CV = min(mind_CV, dev_CV)\n",
    "    maxd_CV = max(maxd_CV, dev_CV)\n",
    "    mind_NMC = min(mind_NMC, dev_NMC)\n",
    "    maxd_NMC = max(maxd_NMC, dev_NMC)\n",
    "\n",
    "end\n",
    "@info p mind_CV maxd_CV mind_NMC maxd_NMC"
   ]
  },
  {
   "cell_type": "code",
   "execution_count": 139,
   "metadata": {},
   "outputs": [
    {
     "name": "stderr",
     "output_type": "stream",
     "text": [
      "┌ Info: 0.9\n",
      "│   mind_CV = 0.35691285380945076\n",
      "│   maxd_CV = 0.36408893924524055\n",
      "│   mind_NMC = 0.18161427337879868\n",
      "│   maxd_NMC = 0.36408893924524055\n",
      "└ @ Main /Users/tingan/pwcet-safety/src/main.ipynb:28\n"
     ]
    }
   ],
   "source": [
    "p = 0.9\n",
    "mind_NMC = Inf\n",
    "maxd_NMC = 0\n",
    "mind_CV = Inf\n",
    "maxd_CV = 0\n",
    "for i in 1:50\n",
    "    n = 10000\n",
    "    res = sim(a, z0, p, n)\n",
    "    res2 = Vector{Tuple{BitVector, Float64}}(undef, n)\n",
    "    k = 1\n",
    "    for(σ, deviation) in res\n",
    "        σs5 =  σ[1:10]\n",
    "        res2[k] = (σs5, deviation)\n",
    "        k += 1\n",
    "    end\n",
    "    k = 1\n",
    "\n",
    "    dev_CV = inverse_fcv(0.99, (10*0.9^11-11*0.9^10+1)/0.1, res2, missfirst)\n",
    "\n",
    "    dev_NMC = res[Int(n*0.99)][2]\n",
    "\n",
    "    mind_CV = min(mind_CV, dev_CV)\n",
    "    maxd_CV = max(maxd_CV, dev_CV)\n",
    "    mind_NMC = min(mind_NMC, dev_NMC)\n",
    "    maxd_NMC = max(maxd_NMC, dev_NMC)\n",
    "\n",
    "end\n",
    "@info p mind_CV maxd_CV mind_NMC maxd_NMC"
   ]
  },
  {
   "cell_type": "code",
   "execution_count": 138,
   "metadata": {},
   "outputs": [
    {
     "name": "stderr",
     "output_type": "stream",
     "text": [
      "┌ Info: 0.9\n",
      "│   mind_CV = 0.1786396896500381\n",
      "│   maxd_CV = 0.35691285380945076\n",
      "│   mind_NMC = 0.1786396896500381\n",
      "│   maxd_NMC = 0.35691285380945076\n",
      "└ @ Main /Users/tingan/pwcet-safety/src/main.ipynb:28\n"
     ]
    },
    {
     "ename": "ErrorException",
     "evalue": "syntax: unexpected \"end\"",
     "output_type": "error",
     "traceback": [
      "syntax: unexpected \"end\"\n",
      "\n",
      "Stacktrace:\n",
      " [1] top-level scope\n",
      "   @ ~/pwcet-safety/src/main.ipynb:29"
     ]
    }
   ],
   "source": [
    "p = 0.9\n",
    "mind_NMC = Inf\n",
    "maxd_NMC = 0\n",
    "mind_CV = Inf\n",
    "maxd_CV = 0\n",
    "for i in 1:50\n",
    "    n = 10000\n",
    "    res = sim(a, z0, p, n)\n",
    "    res2 = Vector{Tuple{BitVector, Float64}}(undef, n)\n",
    "    k = 1\n",
    "    for(σ, deviation) in res\n",
    "        σs5 =  σ[1:10]\n",
    "        res2[k] = (σs5, deviation)\n",
    "        k += 1\n",
    "    end\n",
    "    k = 1\n",
    "\n",
    "    dev_CV = inverse_fcv(0.99, 1, res2, misstotal)\n",
    "\n",
    "    dev_NMC = res[Int(n*0.99)][2]\n",
    "\n",
    "    mind_CV = min(mind_CV, dev_CV)\n",
    "    maxd_CV = max(maxd_CV, dev_CV)\n",
    "    mind_NMC = min(mind_NMC, dev_NMC)\n",
    "    maxd_NMC = max(maxd_NMC, dev_NMC)\n",
    "\n",
    "end\n",
    "@info p mind_CV maxd_CV mind_NMC maxd_NMC"
   ]
  },
  {
   "cell_type": "code",
   "execution_count": null,
   "metadata": {},
   "outputs": [],
   "source": [
    "p = 0.9\n",
    "mind_NMC = Inf\n",
    "maxd_NMC = 0\n",
    "mind_CV = Inf\n",
    "maxd_CV = 0\n",
    "for i in 1:50\n",
    "    n = 10000\n",
    "    res = sim(a, z0, p, n)\n",
    "\n",
    "    dev_CV = inverse_fcv(0.99, (100*0.9^101-101*0.9^100+1)/0.1, res, missfirst)\n",
    "\n",
    "    dev_NMC = res[Int(n*0.99)][2]\n",
    "\n",
    "    mind_CV = min(mind_CV, dev_CV)\n",
    "    maxd_CV = max(maxd_CV, dev_CV)\n",
    "    mind_NMC = min(mind_NMC, dev_NMC)\n",
    "    maxd_NMC = max(maxd_NMC, dev_NMC)\n",
    "\n",
    "end\n",
    "@info p mind_CV maxd_CV mind_NMC maxd_NMC"
   ]
  },
  {
   "cell_type": "code",
   "execution_count": 129,
   "metadata": {},
   "outputs": [
    {
     "name": "stderr",
     "output_type": "stream",
     "text": [
      "┌ Info: 0.9\n",
      "│   mind_CV = 0.1873103847440384\n",
      "│   maxd_CV = 0.35691285380945076\n",
      "│   mind_NMC = 0.1873103847440384\n",
      "│   maxd_NMC = 0.35691285380945076\n",
      "└ @ Main /Users/tingan/pwcet-safety/src/main.ipynb:20\n"
     ]
    },
    {
     "ename": "ErrorException",
     "evalue": "syntax: unexpected \"end\"",
     "output_type": "error",
     "traceback": [
      "syntax: unexpected \"end\"\n",
      "\n",
      "Stacktrace:\n",
      " [1] top-level scope\n",
      "   @ ~/pwcet-safety/src/main.ipynb:21"
     ]
    }
   ],
   "source": [
    "p = 0.9\n",
    "mind_NMC = Inf\n",
    "maxd_NMC = 0\n",
    "mind_CV = Inf\n",
    "maxd_CV = 0\n",
    "for i in 1:50\n",
    "    n = 10000\n",
    "    res = sim(a, z0, p, n)\n",
    "\n",
    "    dev_CV = inverse_fcv(0.99, (100*0.9^101-101*0.9^100+1)/0.1, res, missfirst)\n",
    "\n",
    "    dev_NMC = res[Int(n*0.99)][2]\n",
    "\n",
    "    mind_CV = min(mind_CV, dev_CV)\n",
    "    maxd_CV = max(maxd_CV, dev_CV)\n",
    "    mind_NMC = min(mind_NMC, dev_NMC)\n",
    "    maxd_NMC = max(maxd_NMC, dev_NMC)\n",
    "\n",
    "end\n",
    "@info p mind_CV maxd_CV mind_NMC maxd_NMC"
   ]
  },
  {
   "cell_type": "code",
   "execution_count": 27,
   "metadata": {},
   "outputs": [
    {
     "name": "stderr",
     "output_type": "stream",
     "text": [
      "┌ Info: 0.1\n",
      "│   mind_CV = 31331.40469995471\n",
      "│   maxd_CV = 40661.36836285794\n",
      "│   mind_NMC = 31331.40469995471\n",
      "│   maxd_NMC = 40624.7811061699\n",
      "└ @ Main /Users/tingan/pwcet-safety/src/main.ipynb:20\n",
      "┌ Info: 0.5\n",
      "│   mind_CV = 1.53764165422606\n",
      "│   maxd_CV = 1.7180189916789617\n",
      "│   mind_NMC = 1.53764165422606\n",
      "│   maxd_NMC = 1.7180189916789617\n",
      "└ @ Main /Users/tingan/pwcet-safety/src/main.ipynb:20\n",
      "┌ Info: 0.9\n",
      "│   mind_CV = 0.1873103847440384\n",
      "│   maxd_CV = 0.35691285380945076\n",
      "│   mind_NMC = 0.1873103847440384\n",
      "│   maxd_NMC = 0.35691285380945076\n",
      "└ @ Main /Users/tingan/pwcet-safety/src/main.ipynb:20\n",
      "┌ Info: 0.99\n",
      "│   mind_CV = 0.05357866530061128\n",
      "│   maxd_CV = 0.1786396896500381\n",
      "│   mind_NMC = 0.05357866530061128\n",
      "│   maxd_NMC = 0.1786396896500381\n",
      "└ @ Main /Users/tingan/pwcet-safety/src/main.ipynb:20\n"
     ]
    }
   ],
   "source": [
    "for p in [0.1, 0.5, 0.9, 0.99]\n",
    "    mind_NMC = Inf\n",
    "    maxd_NMC = 0\n",
    "    mind_CV = Inf\n",
    "    maxd_CV = 0\n",
    "    for i in 1:50\n",
    "        n = 10000\n",
    "        res = sim(a, z0, p, n)\n",
    "\n",
    "        dev_CV = inverse_fcv(0.99, 100*(1-p), res, misstotal)\n",
    "\n",
    "        dev_NMC = res[Int(n*0.99)][2]\n",
    "\n",
    "        mind_CV = min(mind_CV, dev_CV)\n",
    "        maxd_CV = max(maxd_CV, dev_CV)\n",
    "        mind_NMC = min(mind_NMC, dev_NMC)\n",
    "        maxd_NMC = max(maxd_NMC, dev_NMC)\n",
    "\n",
    "    end\n",
    "    @info p mind_CV maxd_CV mind_NMC maxd_NMC\n",
    "end"
   ]
  },
  {
   "cell_type": "markdown",
   "metadata": {},
   "source": [
    "## Analytic solution"
   ]
  },
  {
   "cell_type": "markdown",
   "metadata": {},
   "source": [
    "### Mean of first miss\n",
    "The probability $P(n)$ of first miss occurs in position $n$ in a string of length $H (H \\ge n)$ with hit probablity $a (0\\le a\\le1)$ is:\n",
    "$$\n",
    "P(n)=a^{n-1}\\cdot (1-a)\n",
    "$$\n",
    "The mean value of the position of first miss $M(H)$ can be expressed as:\n",
    "$$\n",
    "\\begin{align}\n",
    "M(H)&=\\sum^{H}_{n=1}nP(n)\\\\\n",
    "&=(1-a)\\sum^{H}_{n=1}na^{n-1}\\\\\n",
    "&=(1-a)\\sum^{H}_{n=1}\\frac{d}{da}a^n\\\\\n",
    "&=(1-a)\\frac{d}{da}\\sum^{H}_{n=1}a^n\\\\\n",
    "&=(1-a)\\frac{d}{da}\\frac{a(1-a^H)}{1-a}\\\\\n",
    "&=\\frac{Ha^{H+1}-(H+1)a^H+1}{1-a}\n",
    "\\end{align}\n",
    "$$"
   ]
  },
  {
   "cell_type": "code",
   "execution_count": 28,
   "metadata": {},
   "outputs": [
    {
     "data": {
      "text/plain": [
       "9.997078246122367"
      ]
     },
     "execution_count": 28,
     "metadata": {},
     "output_type": "execute_result"
    }
   ],
   "source": [
    "a = 0.9\n",
    "H = 100\n",
    "\n",
    "first_miss_mean = (H*a^(H+1) - (H+1)*a^H + 1) / (1-a)"
   ]
  },
  {
   "cell_type": "markdown",
   "metadata": {},
   "source": [
    "### Mean of total misses\n",
    "The probability $P(n,H)$ of $n$ total misses occurs  in a string of length $H (H \\ge n)$ with hit probablity $a (0\\le a\\le1)$ is:\n",
    "$$\n",
    "P(n,H)= {H \\choose n}a^{H-n}(1-a)^n\n",
    "$$\n",
    "Let $1-a=x$.\n",
    "The mean value of the total number of misses $M(H)$ can be expressed as:\n",
    "$$\n",
    "\\begin{align}\n",
    "M(H)&=\\sum^{H}_{n=1}nP(n,H)\\\\\n",
    "&=\\sum^{H}_{n=1}n{H \\choose n}a^{H-n}x^n\\\\\n",
    "&=x\\sum^{H}_{n=1}\\frac{d}{dx}{H \\choose n}a^{H-n}x^n\\\\\n",
    "&=x\\frac{d}{dx}(a+x)^H\\\\\n",
    "&=H(1-a)\n",
    "\\end{align}\n",
    "$$"
   ]
  },
  {
   "cell_type": "code",
   "execution_count": 29,
   "metadata": {},
   "outputs": [
    {
     "data": {
      "text/plain": [
       "9.999999999999998"
      ]
     },
     "execution_count": 29,
     "metadata": {},
     "output_type": "execute_result"
    }
   ],
   "source": [
    "a = 0.9\n",
    "H = 100\n",
    "\n",
    "total_miss_mean = H*(1-a)"
   ]
  },
  {
   "cell_type": "markdown",
   "metadata": {},
   "source": [
    "### Mean of consecutive misses\n",
    "The probability $P(n,H)$ of $n$ consecutive misses occurs  in a string of length $H (H \\ge n)$ with hit probablity $a (0\\le a\\le1)$ is:\n",
    "$$\n",
    "P(n,H)= \n",
    "$$"
   ]
  },
  {
   "cell_type": "markdown",
   "metadata": {},
   "source": [
    "We calculate the expected value of # of longest consecutive misses in a sequence by leveraging two matrices with dynamic programming. Assuming each deadline has a chance of $p$ being met,\n",
    "$$\n",
    "T[m, k] = P(\\text{a sequence of length $m$ has a longest consecutive misses of $k$})\n",
    "$$ and \n",
    "$$\n",
    "C[m, k] = \\sum_{i = 0}^k T[m, i]\n",
    "$$"
   ]
  },
  {
   "cell_type": "code",
   "execution_count": 22,
   "metadata": {},
   "outputs": [
    {
     "name": "stdout",
     "output_type": "stream",
     "text": [
      "  0.000209 seconds (6 allocations: 159.656 KiB)\n"
     ]
    },
    {
     "data": {
      "text/plain": [
       "([1.0 0.0 … 0.0 0.0; 0.9 0.09999999999999998 … 0.0 0.0; … ; 2.9512665430652825e-5 0.40519676821853573 … 9.99999999999978e-100 0.0; 2.6561398887587544e-5 0.40148488508280417 … 1.7999999999999606e-99 9.999999999999778e-101], [1.0 1.0 … 1.0 1.0; 0.9 1.0 … 1.0 1.0; … ; 2.9512665430652825e-5 0.4052262808839664 … 1.0000000000000009 1.0; 2.6561398887587544e-5 0.40151144648169174 … 1.0000000000000007 1.0000000000000007])"
      ]
     },
     "execution_count": 22,
     "metadata": {},
     "output_type": "execute_result"
    }
   ],
   "source": [
    "@time T, C = ev_consc_miss_prep(100, 0.9)"
   ]
  },
  {
   "cell_type": "code",
   "execution_count": 24,
   "metadata": {},
   "outputs": [
    {
     "data": {
      "text/plain": [
       "101×101 OffsetArray(::Matrix{Float64}, 0:100, 0:100) with eltype Float64 with indices 0:100×0:100:\n",
       " 1.0         0.0       0.0        0.0         …  0.0       0.0      0.0\n",
       " 0.9         0.1       0.0        0.0            0.0       0.0      0.0\n",
       " 0.81        0.18      0.01       0.0            0.0       0.0      0.0\n",
       " 0.729       0.252     0.018      0.001          0.0       0.0      0.0\n",
       " 0.6561      0.3159    0.0261     0.0018         0.0       0.0      0.0\n",
       " 0.59049     0.3726    0.03411    0.00261     …  0.0       0.0      0.0\n",
       " 0.531441    0.42282   0.042039   0.00342        0.0       0.0      0.0\n",
       " 0.478297    0.467216  0.0498879  0.0042291      0.0       0.0      0.0\n",
       " 0.430467    0.506378  0.0576574  0.00503739     0.0       0.0      0.0\n",
       " 0.38742     0.540836  0.0653483  0.00584488     0.0       0.0      0.0\n",
       " 0.348678    0.571069  0.0729612  0.00665157  …  0.0       0.0      0.0\n",
       " 0.313811    0.597505  0.080497   0.00745745     0.0       0.0      0.0\n",
       " 0.28243     0.620532  0.0879562  0.00826254     0.0       0.0      0.0\n",
       " ⋮                                            ⋱                     ⋮\n",
       " 8.46415e-5  0.444234  0.480051   0.0679073      0.0       0.0      0.0\n",
       " 7.61773e-5  0.440169  0.48329    0.0686522   …  0.0       0.0      0.0\n",
       " 6.85596e-5  0.436141  0.486493   0.0693963      0.0       0.0      0.0\n",
       " 6.17037e-5  0.432149  0.489659   0.0701396      0.0       0.0      0.0\n",
       " 5.55333e-5  0.428193  0.492789   0.0708823      0.0       0.0      0.0\n",
       " 4.998e-5    0.424272  0.495884   0.0716241      0.0       0.0      0.0\n",
       " 4.4982e-5   0.420388  0.498943   0.0723653   …  0.0       0.0      0.0\n",
       " 4.04838e-5  0.416538  0.501968   0.0731057      0.0       0.0      0.0\n",
       " 3.64354e-5  0.412723  0.504958   0.0738453      0.0       0.0      0.0\n",
       " 3.27919e-5  0.408943  0.507913   0.0745842      1.0e-98   0.0      0.0\n",
       " 2.95127e-5  0.405197  0.510835   0.0753224      1.8e-98   1.0e-99  0.0\n",
       " 2.65614e-5  0.401485  0.513723   0.0760598   …  2.61e-98  1.8e-99  1.0e-100"
      ]
     },
     "execution_count": 24,
     "metadata": {},
     "output_type": "execute_result"
    }
   ],
   "source": [
    "T"
   ]
  },
  {
   "cell_type": "code",
   "execution_count": 27,
   "metadata": {},
   "outputs": [
    {
     "data": {
      "text/plain": [
       "1.692892184904835"
      ]
     },
     "execution_count": 27,
     "metadata": {},
     "output_type": "execute_result"
    }
   ],
   "source": [
    "sum(map(x -> x*T[100, x], 0:100))"
   ]
  }
 ],
 "metadata": {
  "kernelspec": {
   "display_name": "Julia",
   "language": "julia",
   "name": "julia"
  },
  "language_info": {
   "file_extension": ".jl",
   "mimetype": "application/julia",
   "name": "julia",
   "version": "1.9.3"
  }
 },
 "nbformat": 4,
 "nbformat_minor": 4
}
