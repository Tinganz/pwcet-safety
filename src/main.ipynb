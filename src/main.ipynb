{
 "cells": [
  {
   "cell_type": "code",
   "execution_count": 1,
   "metadata": {},
   "outputs": [],
   "source": [
    "using DataFrames\n",
    "using ControlSystemsBase\n",
    "using Statistics\n",
    "using Distributions\n",
    "using Plots\n",
    "using JLD\n",
    "using GLM\n",
    "\n",
    "using RealTimeScheduling\n",
    "using ControlTimingSafety\n",
    "\n",
    "push!(LOAD_PATH, \"../lib\")\n",
    "using Experiments\n",
    "using Benchmarks"
   ]
  },
  {
   "cell_type": "markdown",
   "metadata": {
    "tags": []
   },
   "source": [
    "## SHT\n",
    "\n",
    "Address the issue about equal prior belief for $H_0$ and $H_1$. Recall that given deviation upper bound $d_{ub}$, confidence level $c$, and the set of all possible samples $X$, the two hypothesis are defined as follows:\n",
    "$$\n",
    "\\DeclareMathOperator{\\dev}{Deviation}\n",
    "H_0: Pr(\\dev(x) < d_{ub} | x \\in X) < c \\\\\n",
    "H_1: Pr(\\dev(x) < d_{ub} | x \\in X) > c\n",
    "$$\n",
    "assuming that the sample $x$ is drawn uniformly from the set $X$.\n"
   ]
  },
  {
   "cell_type": "markdown",
   "metadata": {},
   "source": [
    "\n",
    "In the paper, the Bayes Factor $B$ is used to compute $K$, the number of required samples to draw to give \n",
    "\\begin{align}\n",
    "\\frac{Pr(H_1)}{Pr(H_0)} B &= \\frac{Pr(H_1|Data)}{Pr(H_0|Data)} \\\\\n",
    "\\frac{Pr(H_1)}{Pr(H_0)} B &= \\frac{\\frac{Pr(Data|H_1)Pr(H_1)}{Pr(Data)}}{\\frac{Pr(Data|H_0)Pr(H_0)}{Pr(Data)}} \\\\\n",
    "B &= \\frac{Pr(Data|H_1)}{Pr(Data|H_0)} \\\\\n",
    "B &= \\frac{\\int_c^1 P(Data|\\theta=q, H_1) f_{\\theta|H_1}(q)dq}\n",
    "          {\\int_0^c P(Data|\\theta=q, H_0) f_{\\theta|H_0}(q)dq} \\\\\n",
    "B &= \\frac{\\int_c^1 P(Data|\\theta=q, H_1) \\frac{1}{1-c} dq}\n",
    "          {\\int_0^c P(Data|\\theta=q, H_0) \\frac{1}{c} dq} \\\\\n",
    "B &= \\frac{c \\int_c^1 q^K dq}\n",
    "          {(1-c) \\int_0^c q^K dq} \\\\\n",
    "\\frac{1-c}{c} B &= \\frac{\\int_c^1 q^K dq}\n",
    "                        {\\int_0^c q^K dq} \\\\\n",
    "K &= -\\log_c(\\frac{1-c}{c}B + 1)\n",
    "\\end{align}\n",
    "\n",
    "<!-- Traditionally, a Bayes factor $B$ of $100$ is considered extreme evidence favoring the alternative hypothesis. However, the paper we are based on states the type-I error is expressed by\n",
    "$$\n",
    "err = \\frac{c}{c(1-c)B}\n",
    "$$\n",
    "Which is ~$.497$ when $B=100$, and ~$.000238$ when $B=4.15e5$. -->"
   ]
  },
  {
   "cell_type": "code",
   "execution_count": 2,
   "metadata": {
    "tags": []
   },
   "outputs": [
    {
     "data": {
      "text/plain": [
       "1×2 Matrix{Float64}:\n",
       " 0.497487  0.000238497"
      ]
     },
     "metadata": {},
     "output_type": "display_data"
    }
   ],
   "source": [
    "let\n",
    "    c = 0.99\n",
    "    B = 100\n",
    "    e = c/(c+(1-c)*B)\n",
    "    B_og = 4.15e5\n",
    "    e_og = c/(c+(1-c)*B_og)\n",
    "    [e e_og]\n",
    "end"
   ]
  },
  {
   "cell_type": "code",
   "execution_count": 3,
   "metadata": {
    "tags": []
   },
   "outputs": [
    {
     "data": {
      "text/plain": [
       "7×2 Matrix{Float64}:\n",
       "    20.8543        122.779\n",
       "   457.211        1287.12\n",
       "  6903.3         12929.6\n",
       " 92097.8             1.29354e5\n",
       "     2.30258e11      1.2936e11\n",
       "     3.45672e16      1.29464e16\n",
       "     3.30896e17      1.16517e17"
      ]
     },
     "metadata": {},
     "output_type": "display_data"
    }
   ],
   "source": [
    "let\n",
    "    c = [0.9, 0.99, 0.999, 0.9999, 1-1e-10, 1-1e-15, 1-1e-16]\n",
    "    [-log.(c, c./ (1 .- c)) -log.(c, 4.15e5+1)]\n",
    "end"
   ]
  },
  {
   "cell_type": "code",
   "execution_count": 4,
   "metadata": {
    "tags": []
   },
   "outputs": [
    {
     "data": {
      "text/plain": [
       "7×4 Matrix{Float64}:\n",
       " 0.9        122.8          101.9       1.205\n",
       " 0.99      1287.0          829.9       1.551\n",
       " 0.999    12930.0         6029.0       2.145\n",
       " 0.9999  129400.0        37490.0       3.45\n",
       " 1.0          1.294e11  415000.0  311700.0\n",
       " 1.0          1.295e16  415000.0       3.12e10\n",
       " 1.0          1.165e17  415000.0       2.808e11"
      ]
     },
     "metadata": {},
     "output_type": "display_data"
    }
   ],
   "source": [
    "let\n",
    "    B = 4.15e5\n",
    "    c = [0.9, 0.99, 0.999, 0.9999, 1-1e-10, 1-1e-15, 1-1e-16]\n",
    "    # effective_B = c ./ (1 .- c) * B\n",
    "    effective_B = (1 .- c) ./ c * B\n",
    "    K = -log.(c, effective_B .+ 1)\n",
    "    K_og = -log.(c, B+1)\n",
    "\n",
    "    round.([c K_og K K_og./K], sigdigits=4)\n",
    "end"
   ]
  },
  {
   "cell_type": "code",
   "execution_count": 5,
   "metadata": {
    "tags": []
   },
   "outputs": [
    {
     "data": {
      "text/plain": [
       "7×3 Matrix{Float64}:\n",
       " 0.9        43.8        23.67\n",
       " 0.99      459.2        69.47\n",
       " 0.999    4613.0        95.35\n",
       " 0.9999  46150.0        99.51\n",
       " 1.0         4.615e10  100.0\n",
       " 1.0         4.619e15  100.0\n",
       " 1.0         4.157e16  100.0"
      ]
     },
     "metadata": {},
     "output_type": "display_data"
    }
   ],
   "source": [
    "let\n",
    "    B = 100\n",
    "    c = [0.9, 0.99, 0.999, 0.9999, 1-1e-10, 1-1e-15, 1-1e-16]\n",
    "    # effective_B = c ./ (1 .- c) * B\n",
    "    effective_B = (1 .- c) ./ c * B\n",
    "    K = -log.(c, effective_B .+ 1)\n",
    "    K_og = -log.(c, B+1)\n",
    "\n",
    "    round.([c K_og K], sigdigits=4)\n",
    "end"
   ]
  },
  {
   "cell_type": "markdown",
   "metadata": {},
   "source": [
    "## Experiments"
   ]
  },
  {
   "cell_type": "markdown",
   "metadata": {
    "tags": []
   },
   "source": [
    "### pWCET Sampler"
   ]
  },
  {
   "cell_type": "code",
   "execution_count": 6,
   "metadata": {},
   "outputs": [
    {
     "data": {
      "text/plain": [
       "SamplerPWCET(0.9, 100)"
      ]
     },
     "metadata": {},
     "output_type": "display_data"
    }
   ],
   "source": [
    "sp = SamplerPWCET(0.9, 100)"
   ]
  },
  {
   "cell_type": "code",
   "execution_count": 7,
   "metadata": {},
   "outputs": [
    {
     "data": {
      "text/plain": [
       "90.56"
      ]
     },
     "metadata": {},
     "output_type": "display_data"
    }
   ],
   "source": [
    "mean([sum(rand(sp)) for i in 1:100])"
   ]
  },
  {
   "cell_type": "markdown",
   "metadata": {
    "tags": []
   },
   "source": [
    "### System Dynamics\n",
    "\n",
    "Open-loop stable system:\n",
    "$$\n",
    "\\mathbf{\\dot{x}}(t) = \\begin{bmatrix} -6.0 & 1.0 \\\\ 0.2 & -0.7 \\end{bmatrix} \\mathbf{x}(t) +\n",
    "\\begin{bmatrix} 5.0 \\\\ 0.5 \\end{bmatrix} u(t)\n",
    "$$\n",
    "where\n",
    "$$\n",
    "\\mathbf{x}(t) = \\begin{bmatrix} x_1(t) \\\\ x_2(t) \\end{bmatrix}\n",
    "$$\n",
    "is the system state and $u(t)$ is the control input.\n",
    "\n",
    "We also have a open-loop unstable system:\n",
    "$$\n",
    "\\mathbf{\\dot{x}}(t) = \\begin{bmatrix} 0 & 6.5 \\\\ 0 & 0 \\end{bmatrix} \\mathbf{x}(t) +\n",
    "\\begin{bmatrix} 0 \\\\ 19.685 \\end{bmatrix} u(t)\n",
    "$$"
   ]
  },
  {
   "cell_type": "code",
   "execution_count": 8,
   "metadata": {
    "collapsed": true,
    "jupyter": {
     "outputs_hidden": true
    },
    "tags": []
   },
   "outputs": [
    {
     "data": {
      "text/plain": [
       "(StateSpace{ControlSystemsBase.Continuous, Float64}\n",
       "A = \n",
       " -6.0   1.0\n",
       "  0.2  -0.7\n",
       "B = \n",
       " 5.0\n",
       " 0.5\n",
       "C = \n",
       " 1.0  0.0\n",
       " 0.0  1.0\n",
       "D = \n",
       " 0.0\n",
       " 0.0\n",
       "\n",
       "Continuous-time state-space model, StateSpace{ControlSystemsBase.Continuous, Float64}\n",
       "A = \n",
       " 0.0  6.5\n",
       " 0.0  0.0\n",
       "B = \n",
       "  0.0\n",
       " 19.68503937007874\n",
       "C = \n",
       " 1.0  0.0\n",
       "D = \n",
       " 0.0\n",
       "\n",
       "Continuous-time state-space model)"
      ]
     },
     "metadata": {},
     "output_type": "display_data"
    }
   ],
   "source": [
    "benchmarks[:RCN], benchmarks[:F1T]"
   ]
  },
  {
   "cell_type": "code",
   "execution_count": 9,
   "metadata": {},
   "outputs": [
    {
     "data": {
      "text/plain": [
       "Automaton(AbstractMatrix{Float64}[[1.0 0.12999999999999998 0.02559055118110236; 0.0 1.0 0.39370078740157477; -0.582977923541146 -0.9271753376618662 -0.3501109341069651], [1.0 0.12999999999999998 0.02559055118110236; 0.0 1.0 0.39370078740157477; 0.0 0.0 1.0]], Union{Missing, Int64}[1 1], Union{Missing, Int64}[1 2], 1, [1.0 0.0 0.0])"
      ]
     },
     "metadata": {},
     "output_type": "display_data"
    }
   ],
   "source": [
    "# Setting parameters for the experiment\n",
    "H = 100\n",
    "c = 0.99\n",
    "B = 4.15e5\n",
    "h = 0.02\n",
    "sys = benchmarks[:F1T]\n",
    "x0 = 1.\n",
    "u0 = 0.\n",
    "z0 = [fill(x0, size(sys.A, 1)); u0]\n",
    "\n",
    "# Construct an automaton with no constraint\n",
    "a = hold_kill(c2d(sys, h), delay_lqr(sys, h))"
   ]
  },
  {
   "cell_type": "markdown",
   "metadata": {
    "tags": []
   },
   "source": [
    "### Simulations"
   ]
  },
  {
   "cell_type": "code",
   "execution_count": 15,
   "metadata": {},
   "outputs": [
    {
     "data": {
      "text/plain": [
       "100000-element Vector{Tuple{BitVector, Float64}}:\n",
       " ([1, 1, 1, 1, 1, 1, 1, 1, 1, 1  …  1, 0, 0, 1, 0, 1, 0, 0, 1, 0], 0.0019492114528019263)\n",
       " ([1, 1, 1, 1, 1, 1, 1, 1, 1, 1  …  0, 1, 0, 1, 0, 0, 0, 1, 0, 0], 0.0020902729520019684)\n",
       " ([1, 1, 1, 1, 1, 1, 1, 1, 1, 1  …  1, 1, 1, 1, 1, 0, 1, 0, 1, 1], 0.002482597526058034)\n",
       " ([1, 1, 1, 1, 1, 1, 1, 1, 1, 1  …  1, 1, 1, 0, 1, 1, 1, 0, 1, 1], 0.002904827436783544)\n",
       " ([1, 1, 1, 1, 1, 1, 1, 1, 1, 1  …  1, 1, 1, 0, 0, 0, 1, 1, 0, 1], 0.0029586461161027018)\n",
       " ([1, 1, 1, 1, 1, 1, 1, 1, 1, 1  …  0, 1, 0, 1, 1, 0, 1, 0, 0, 1], 0.0032682549391760494)\n",
       " ([1, 1, 1, 1, 1, 1, 1, 1, 1, 1  …  0, 0, 1, 1, 1, 0, 0, 0, 1, 1], 0.0033025891943905933)\n",
       " ([1, 1, 1, 1, 1, 1, 1, 1, 1, 1  …  0, 1, 1, 1, 0, 0, 0, 0, 1, 0], 0.0033704515141988905)\n",
       " ([1, 1, 1, 1, 1, 1, 1, 1, 1, 1  …  1, 1, 0, 1, 1, 1, 0, 1, 0, 0], 0.0033920211425795144)\n",
       " ([1, 1, 1, 1, 1, 1, 1, 1, 1, 0  …  0, 1, 0, 0, 1, 0, 1, 0, 0, 1], 0.003397491278979109)\n",
       " ⋮\n",
       " ([0, 0, 0, 0, 1, 0, 0, 0, 0, 0  …  1, 0, 0, 1, 1, 0, 1, 0, 0, 1], 7.161092997647115)\n",
       " ([1, 0, 0, 0, 0, 0, 0, 0, 0, 0  …  1, 1, 1, 0, 0, 1, 1, 0, 0, 1], 8.006130814064552)\n",
       " ([0, 0, 0, 0, 1, 0, 0, 0, 0, 0  …  0, 1, 1, 1, 0, 0, 0, 0, 0, 0], 8.274899451409068)\n",
       " ([0, 0, 0, 0, 0, 1, 1, 0, 0, 0  …  0, 1, 0, 1, 0, 1, 0, 1, 0, 1], 8.423235804107993)\n",
       " ([1, 1, 0, 0, 0, 0, 0, 0, 0, 0  …  1, 0, 0, 0, 1, 1, 1, 0, 1, 1], 9.543106671040224)\n",
       " ([0, 1, 0, 0, 0, 0, 0, 0, 0, 0  …  0, 0, 0, 0, 0, 1, 0, 0, 1, 1], 9.617396883704378)\n",
       " ([0, 0, 0, 1, 0, 0, 0, 0, 0, 0  …  0, 1, 1, 0, 1, 0, 1, 0, 1, 0], 10.555398468194142)\n",
       " ([0, 1, 0, 0, 0, 0, 0, 0, 0, 0  …  0, 0, 0, 1, 0, 1, 1, 1, 1, 1], 11.021874206444584)\n",
       " ([0, 1, 0, 0, 0, 0, 0, 0, 0, 0  …  0, 0, 0, 1, 1, 0, 0, 1, 1, 0], 22.823463580737705)"
      ]
     },
     "metadata": {},
     "output_type": "display_data"
    }
   ],
   "source": [
    "n = 100000\n",
    "res99 = sim(a, z0, 0.99, n)\n",
    "res90 = sim(a, z0, 0.90, n)\n",
    "res50 = sim(a, z0, 0.50, n)"
   ]
  },
  {
   "cell_type": "code",
   "execution_count": 10,
   "metadata": {},
   "outputs": [
    {
     "data": {
      "text/plain": [
       "100000-element Vector{Tuple{BitVector, Float64}}:\n",
       " ([1, 1, 1, 1, 1, 1, 1, 1, 1, 1  …  1, 1, 1, 1, 1, 1, 1, 1, 1, 1], 0.0)\n",
       " ([1, 1, 1, 1, 1, 1, 1, 1, 1, 1  …  1, 1, 1, 1, 1, 1, 1, 1, 1, 1], 0.0)\n",
       " ([1, 1, 1, 1, 1, 1, 1, 1, 1, 1  …  1, 1, 1, 1, 1, 1, 1, 1, 1, 1], 0.0)\n",
       " ([1, 1, 1, 1, 1, 1, 1, 1, 1, 1  …  1, 1, 1, 0, 1, 1, 1, 1, 1, 1], 2.042884994923239e-8)\n",
       " ([1, 1, 1, 1, 1, 1, 1, 1, 1, 1  …  1, 0, 1, 1, 1, 1, 1, 1, 1, 1], 2.803734560302767e-8)\n",
       " ([1, 1, 1, 1, 1, 1, 1, 1, 1, 1  …  0, 1, 1, 1, 1, 1, 0, 1, 1, 1], 3.812462360323434e-8)\n",
       " ([1, 1, 1, 1, 1, 1, 1, 1, 1, 1  …  1, 1, 1, 1, 1, 1, 1, 1, 1, 1], 3.847623906775773e-8)\n",
       " ([1, 1, 1, 1, 1, 1, 1, 1, 1, 1  …  1, 1, 1, 1, 1, 1, 1, 1, 1, 0], 4.507178897866497e-8)\n",
       " ([1, 1, 1, 1, 1, 1, 1, 1, 1, 1  …  1, 1, 1, 1, 1, 1, 1, 1, 1, 1], 8.484579405600314e-8)\n",
       " ([1, 1, 1, 1, 1, 1, 1, 1, 1, 1  …  1, 0, 1, 1, 1, 1, 1, 1, 1, 1], 8.964095874551607e-8)\n",
       " ⋮\n",
       " ([0, 0, 0, 0, 1, 1, 0, 1, 1, 1  …  1, 1, 1, 1, 0, 1, 1, 1, 1, 1], 0.7367188269861156)\n",
       " ([0, 0, 0, 0, 1, 1, 1, 0, 0, 1  …  0, 1, 0, 1, 1, 1, 1, 0, 1, 1], 0.7474012842093554)\n",
       " ([0, 0, 0, 0, 1, 1, 1, 1, 1, 0  …  1, 1, 1, 1, 1, 1, 1, 1, 1, 1], 0.7500325054989697)\n",
       " ([0, 0, 0, 0, 1, 1, 1, 1, 1, 1  …  1, 1, 1, 1, 1, 1, 1, 1, 1, 1], 0.7500325054989697)\n",
       " ([0, 0, 0, 0, 1, 1, 1, 1, 1, 1  …  1, 1, 1, 1, 1, 1, 1, 1, 1, 1], 0.7500325054989697)\n",
       " ([0, 0, 0, 0, 1, 1, 1, 1, 1, 1  …  1, 1, 1, 0, 1, 1, 1, 1, 1, 1], 0.7500325054989697)\n",
       " ([0, 0, 0, 0, 1, 1, 1, 1, 1, 1  …  1, 1, 1, 1, 1, 1, 0, 1, 0, 1], 0.7500325054989697)\n",
       " ([0, 0, 0, 0, 1, 1, 1, 1, 1, 1  …  0, 1, 1, 1, 1, 1, 1, 1, 1, 1], 0.7500325054989697)\n",
       " ([1, 0, 0, 0, 0, 0, 1, 0, 1, 1  …  0, 1, 1, 1, 1, 1, 1, 1, 1, 1], 0.8468529702814497)"
      ]
     },
     "metadata": {},
     "output_type": "display_data"
    }
   ],
   "source": [
    "n = 100000\n",
    "res90 = sim(a, z0, 0.90, n)"
   ]
  },
  {
   "cell_type": "code",
   "execution_count": 16,
   "metadata": {},
   "outputs": [
    {
     "data": {
      "text/plain": [
       "100000-element Vector{Tuple{BitVector, Float64}}:\n",
       " ([1, 0, 1, 1, 0, 1, 0, 0, 0, 1  …  0, 0, 0, 0, 0, 0, 0, 0, 0, 0], 0.10006673471233873)\n",
       " ([1, 0, 1, 1, 0, 0, 1, 0, 0, 0  …  0, 0, 1, 1, 0, 0, 0, 0, 0, 0], 0.10536880049231159)\n",
       " ([1, 1, 0, 0, 1, 0, 1, 0, 1, 0  …  0, 0, 0, 0, 0, 0, 0, 0, 0, 1], 0.12889237342950083)\n",
       " ([0, 1, 0, 0, 1, 0, 0, 0, 1, 1  …  0, 0, 0, 0, 0, 0, 1, 1, 0, 0], 0.13042136440054303)\n",
       " ([0, 1, 0, 0, 1, 0, 1, 0, 0, 0  …  0, 1, 0, 1, 0, 0, 0, 0, 0, 0], 0.13042136440054303)\n",
       " ([0, 1, 0, 0, 1, 0, 1, 0, 0, 0  …  1, 0, 0, 0, 0, 0, 0, 0, 1, 0], 0.13042136440054303)\n",
       " ([0, 1, 0, 0, 1, 0, 1, 0, 0, 0  …  0, 0, 0, 0, 1, 0, 1, 0, 1, 0], 0.13042136440054303)\n",
       " ([0, 1, 0, 0, 1, 1, 0, 1, 0, 0  …  0, 0, 0, 0, 0, 0, 0, 1, 0, 0], 0.13042136440054303)\n",
       " ([0, 1, 0, 0, 1, 0, 0, 1, 0, 0  …  0, 0, 0, 0, 0, 0, 0, 0, 0, 0], 0.13042136440054303)\n",
       " ([0, 1, 0, 0, 1, 0, 0, 1, 0, 0  …  0, 0, 0, 0, 0, 0, 1, 0, 0, 0], 0.13042136440054303)\n",
       " ⋮\n",
       " ([0, 0, 0, 1, 0, 0, 0, 0, 0, 0  …  0, 0, 0, 0, 0, 0, 0, 0, 0, 0], 138548.0414167267)\n",
       " ([1, 0, 0, 0, 0, 0, 0, 0, 0, 1  …  0, 0, 0, 0, 0, 0, 0, 0, 1, 0], 142314.7944945986)\n",
       " ([0, 0, 0, 1, 0, 0, 0, 0, 0, 0  …  0, 0, 0, 0, 0, 0, 0, 0, 0, 0], 143689.83849803233)\n",
       " ([0, 1, 0, 0, 0, 0, 0, 0, 0, 0  …  0, 0, 0, 0, 0, 0, 0, 0, 0, 0], 144225.07960961765)\n",
       " ([0, 0, 1, 0, 0, 0, 0, 0, 0, 0  …  0, 0, 0, 0, 0, 0, 0, 0, 0, 0], 153866.84487980953)\n",
       " ([1, 0, 0, 0, 0, 0, 0, 0, 0, 0  …  0, 0, 0, 0, 0, 0, 0, 0, 0, 1], 160917.30373602494)\n",
       " ([1, 0, 0, 0, 0, 0, 0, 0, 0, 0  …  0, 0, 0, 0, 0, 0, 0, 0, 0, 0], 165928.78916549886)\n",
       " ([1, 0, 0, 0, 0, 0, 0, 0, 0, 0  …  0, 0, 0, 0, 0, 0, 0, 0, 0, 0], 166077.85718183476)\n",
       " ([1, 0, 0, 0, 0, 0, 0, 0, 0, 0  …  0, 0, 0, 0, 0, 0, 0, 0, 0, 0], 169589.5017400665)"
      ]
     },
     "metadata": {},
     "output_type": "display_data"
    }
   ],
   "source": [
    "res10 = sim(a, z0, 0.10, n)"
   ]
  },
  {
   "cell_type": "code",
   "execution_count": 16,
   "metadata": {},
   "outputs": [],
   "source": [
    "save(\"../data/res99.jld\", \"res99\", res99)\n",
    "save(\"../data/res99.jld\", \"res90\", res90)\n",
    "save(\"../data/res50.jld\", \"res50\", res50)"
   ]
  },
  {
   "cell_type": "code",
   "execution_count": 17,
   "metadata": {},
   "outputs": [],
   "source": [
    "save(\"../data/res50.jld\", \"res10\", res10)"
   ]
  },
  {
   "cell_type": "code",
   "execution_count": 18,
   "metadata": {},
   "outputs": [],
   "source": [
    "devs99 = map(x -> x[2], res99)\n",
    "sigm99 = map(x -> x[1], res99);"
   ]
  },
  {
   "cell_type": "code",
   "execution_count": 19,
   "metadata": {},
   "outputs": [
    {
     "data": {
      "text/plain": [
       "92160-element Vector{Tuple{Int64, Float64}}:\n",
       " (101, 0.0)\n",
       " (101, 0.0)\n",
       " (101, 0.0)\n",
       " (101, 0.0)\n",
       " (101, 0.0)\n",
       " (101, 0.0)\n",
       " (101, 0.0)\n",
       " (101, 0.0)\n",
       " (101, 0.0)\n",
       " (101, 0.0)\n",
       " ⋮\n",
       " (1, 0.1786396896500381)\n",
       " (1, 0.1786396896500381)\n",
       " (1, 0.36408893924524055)\n",
       " (1, 0.36408893924524055)\n",
       " (1, 0.36408893924524055)\n",
       " (1, 0.36408893924524055)\n",
       " (1, 0.36408893924524055)\n",
       " (1, 0.36408893924524055)\n",
       " (1, 0.36408893924524055)"
      ]
     },
     "metadata": {},
     "output_type": "display_data"
    }
   ],
   "source": [
    "map(filter(x -> misstotal(x[1]) < 3, res99)) do x\n",
    "    (missfirst(x[1]), x[2])\n",
    "end"
   ]
  },
  {
   "cell_type": "code",
   "execution_count": 20,
   "metadata": {},
   "outputs": [
    {
     "name": "stdout",
     "output_type": "stream",
     "text": [
      "Bool[0, 0, 1, 1, 1, 1, 1, 1, 1, 1, 1, 1, 1, 1, 1, 1, 1, 1, 1, 1, 1, 1, 1, 1, 1, 1, 1, 1, 1, 1, 1, 1, 1, 1, 1, 1, 1, 1, 1, 1, 1, 1, 1, 1, 1, 1, 1, 1, 1, 1, 1, 1, 1, 1, 1, 1, 1, 1, 1, 1, 1, 1, 1, 1, 1, 1, 1, 1, 1, 1, 1, 1, 1, 1, 1, 1, 1, 1, 1, 1, 1, 1, 1, 1, 1, 1, 1, 1, 1, 1, 1, 1, 1, 1, 1, 1, 1, 1, 1, 1]0.36408893924524055\n",
      "Bool[0, 0, 1, 1, 1, 1, 1, 1, 1, 1, 1, 1, 1, 1, 1, 1, 1, 1, 1, 1, 1, 1, 1, 1, 1, 1, 1, 1, 1, 1, 1, 1, 1, 1, 1, 1, 1, 1, 1, 1, 1, 1, 1, 1, 1, 1, 1, 1, 1, 1, 1, 1, 1, 1, 1, 1, 1, 1, 1, 1, 1, 1, 1, 1, 1, 1, 1, 1, 1, 1, 1, 1, 1, 1, 1, 1, 1, 1, 1, 1, 1, 1, 1, 1, 1, 1, 1, 1, 1, 1, 1, 1, 1, 1, 1, 1, 1, 1, 1, 1]0.36408893924524055\n",
      "Bool[0, 0, 1, 1, 1, 1, 1, 1, 1, 1, 1, 1, 1, 1, 1, 1, 1, 1, 1, 1, 1, 1, 1, 1, 1, 1, 1, 1, 1, 1, 1, 1, 1, 1, 1, 1, 1, 1, 1, 1, 1, 1, 1, 1, 1, 1, 1, 1, 1, 1, 1, 1, 1, 1, 1, 1, 1, 1, 1, 1, 1, 1, 1, 1, 1, 1, 1, 1, 1, 1, 1, 1, 1, 1, 1, 1, 1, 1, 1, 1, 1, 1, 1, 1, 1, 1, 1, 1, 1, 1, 1, 1, 1, 1, 1, 1, 1, 1, 1, 1]0.36408893924524055\n",
      "Bool[0, 0, 1, 1, 1, 1, 1, 1, 1, 1, 1, 1, 1, 1, 1, 1, 1, 1, 1, 1, 1, 1, 1, 1, 1, 1, 1, 1, 1, 1, 1, 1, 1, 1, 1, 1, 1, 1, 1, 1, 1, 1, 1, 1, 1, 1, 1, 1, 1, 1, 1, 1, 1, 1, 1, 1, 1, 1, 1, 1, 1, 1, 1, 1, 1, 1, 1, 1, 1, 1, 1, 1, 1, 1, 1, 1, 1, 1, 1, 1, 1, 1, 1, 1, 1, 1, 1, 1, 1, 1, 1, 1, 1, 1, 1, 1, 1, 1, 1, 1]0.36408893924524055\n"
     ]
    },
    {
     "data": {
      "text/plain": [
       "4-element Vector{Nothing}:\n",
       " nothing\n",
       " nothing\n",
       " nothing\n",
       " nothing"
      ]
     },
     "metadata": {},
     "output_type": "display_data"
    }
   ],
   "source": [
    "map(collect(filter(x -> misstotal(x[1]) < 3, res99))[end-3:end]) do x\n",
    "    println(x[1], x[2])\n",
    "end"
   ]
  },
  {
   "cell_type": "code",
   "execution_count": 5,
   "metadata": {
    "tags": []
   },
   "outputs": [
    {
     "ename": "UndefVarError",
     "evalue": "UndefVarError: `res90` not defined",
     "output_type": "error",
     "traceback": [
      "UndefVarError: `res90` not defined\n",
      "\n",
      "Stacktrace:\n",
      " [1] top-level scope\n",
      "   @ ~/pwcet-safety/src/main.ipynb:1"
     ]
    }
   ],
   "source": [
    "res = res90\n",
    "devs = map(x -> x[2], res)\n",
    "σs = map(x -> x[1], res)\n",
    "σs3 = map(x -> x[1:3], σs)\n",
    "σs5 = map(x -> x[1:5], σs)\n",
    "σs7 = map(x -> x[1:7], σs)\n",
    "σsx = map(x -> x[1:10], σs)\n",
    "σx = σs7\n",
    "p1 = plot(devs, (1:length(res)) ./ length(res), \n",
    "    xlabel=\"Deviation\", ylabel=\"Probability\", label=\"cdf\", title=\"p=0.10\")\n",
    "p2 = plot(missrow.(σx), devs,\n",
    "    ylabel=\"Deviation\", xlabel=\"Consecutive Misses\", label=\"p=0.9\")\n",
    "p3 = plot(misstotal.(σx), devs,\n",
    "    ylabel=\"Deviation\", xlabel=\"Total Misses\")\n",
    "p4 = plot(missfirst.(σs), devs,\n",
    "    ylabel=\"Deviation\", xlabel=\"First Miss\")\n",
    "for c in [0.99]\n",
    "    dev = devs[round(Int64, length(res)*c)]\n",
    "    scatter!(p1, [dev], [c], label=\"99th quantile = $(round(dev, sigdigits=3))\")\n",
    "end\n",
    "println(length(res))\n",
    "savefig(p2, \"cv_cm_7.pdf\")\n",
    "savefig(p3, \"cv_tm_7.pdf\")\n",
    "display(p3)"
   ]
  },
  {
   "cell_type": "code",
   "execution_count": 22,
   "metadata": {},
   "outputs": [
    {
     "name": "stdout",
     "output_type": "stream",
     "text": [
      "[0.17, 0.557, 0.305]\n",
      "[0.334, 0.94, 0.356]\n",
      "[1.66, 11.0, 0.151]\n",
      "[36200.0, 197000.0, 0.184]\n"
     ]
    }
   ],
   "source": [
    "for res in [res99, res90, res50, res10]\n",
    "    devs = map(x -> x[2], res)\n",
    "    dev = devs[round(Int64, length(res)*0.99)]\n",
    "    println(round.([dev, devs[end], dev/devs[end]], sigdigits=3))\n",
    "end"
   ]
  },
  {
   "cell_type": "markdown",
   "metadata": {
    "tags": []
   },
   "source": [
    "### Deviation Estimation"
   ]
  },
  {
   "cell_type": "code",
   "execution_count": 23,
   "metadata": {},
   "outputs": [
    {
     "name": "stderr",
     "output_type": "stream",
     "text": [
      "┌ Info: 0.1\n",
      "│   sample_t = 1.3828277587890625e-5\n",
      "│   devest_t = 28.389459133148193\n",
      "│   mind = 68454.63932647326\n",
      "│   maxd = 170819.162807786\n",
      "└ @ Main /Users/tingan/pwcet-safety/src/main.ipynb:18\n",
      "┌ Info: 0.5\n",
      "│   sample_t = 2.0265579223632812e-5\n",
      "│   devest_t = 24.08500027656555\n",
      "│   mind = 3.315301131265987\n",
      "│   maxd = 23.060221595323238\n",
      "└ @ Main /Users/tingan/pwcet-safety/src/main.ipynb:18\n"
     ]
    },
    {
     "name": "stderr",
     "output_type": "stream",
     "text": [
      "┌ Info: 0.9\n",
      "│   sample_t = 1.049041748046875e-5\n",
      "│   devest_t = 20.83445644378662\n",
      "│   mind = 0.36408893924524055\n",
      "│   maxd = 0.9491345984884901\n",
      "└ @ Main /Users/tingan/pwcet-safety/src/main.ipynb:18\n",
      "┌ Info: 0.99\n",
      "│   sample_t = 1.2636184692382812e-5\n",
      "│   devest_t = 16.35547137260437\n",
      "│   mind = 0.1786396896500381\n",
      "│   maxd = 0.36408893924524055\n",
      "└ @ Main /Users/tingan/pwcet-safety/src/main.ipynb:18\n"
     ]
    }
   ],
   "source": [
    "for p in [0.1, 0.5, 0.9, 0.99]\n",
    "    mind = Inf\n",
    "    maxd = 0.\n",
    "    sample_t = 0\n",
    "    devest_t = 0\n",
    "    for i in 1:50\n",
    "        t = time()\n",
    "        sp = SamplerPWCET(p, 100)\n",
    "        sample_t += time() - t\n",
    "\n",
    "        t = time()\n",
    "        dub = estimate_deviation(a, sp, z0, c, B)\n",
    "        devest_t += time() - t\n",
    "\n",
    "        mind = min(mind, dub)\n",
    "        maxd = max(maxd, dub)\n",
    "    end\n",
    "    @info p sample_t devest_t mind maxd\n",
    "end"
   ]
  },
  {
   "cell_type": "code",
   "execution_count": 24,
   "metadata": {},
   "outputs": [
    {
     "name": "stderr",
     "output_type": "stream",
     "text": [
      "┌ Info: 0.1\n",
      "│   sample_t = 2.5987625122070312e-5\n",
      "│   devest_t = 25.281343698501587\n",
      "│   mind = 52108.82271546343\n",
      "│   maxd = 178607.09398337928\n",
      "│   maxd / mind = 3.427578760676494\n",
      "└ @ Main /Users/tingan/pwcet-safety/src/main.ipynb:18\n",
      "┌ Info: 0.5\n",
      "│   sample_t = 2.0265579223632812e-5\n",
      "│   devest_t = 27.071274042129517\n",
      "│   mind = 2.275550912695683\n",
      "│   maxd = 15.277521506800563\n",
      "│   maxd / mind = 6.713768266649051\n",
      "└ @ Main /Users/tingan/pwcet-safety/src/main.ipynb:18\n"
     ]
    },
    {
     "name": "stderr",
     "output_type": "stream",
     "text": [
      "┌ Info: 0.9\n",
      "│   sample_t = 1.5735626220703125e-5\n",
      "│   devest_t = 20.65753960609436\n",
      "│   mind = 0.36408893924524055\n",
      "│   maxd = 0.9491345984884901\n",
      "│   maxd / mind = 2.606875672894799\n",
      "└ @ Main /Users/tingan/pwcet-safety/src/main.ipynb:18\n",
      "┌ Info: 0.99\n",
      "│   sample_t = 2.0265579223632812e-5\n",
      "│   devest_t = 16.256263732910156\n",
      "│   mind = 0.1786396896500381\n",
      "│   maxd = 0.36408893924524055\n",
      "│   maxd / mind = 2.0381189642598714\n",
      "└ @ Main /Users/tingan/pwcet-safety/src/main.ipynb:18\n"
     ]
    }
   ],
   "source": [
    "for p in [0.1, 0.5, 0.9, 0.99]\n",
    "    mind = Inf\n",
    "    maxd = 0.\n",
    "    sample_t = 0\n",
    "    devest_t = 0\n",
    "    for i in 1:50\n",
    "        t = time()\n",
    "        sp = SamplerPWCET(p, 100)\n",
    "        sample_t += time() - t\n",
    "\n",
    "        t = time()\n",
    "        dub = estimate_deviation(a, sp, z0, c, B)\n",
    "        devest_t += time() - t\n",
    "\n",
    "        mind = min(mind, dub)\n",
    "        maxd = max(maxd, dub)\n",
    "    end\n",
    "    @info p sample_t devest_t mind maxd maxd/mind\n",
    "end"
   ]
  },
  {
   "cell_type": "code",
   "execution_count": 25,
   "metadata": {},
   "outputs": [
    {
     "data": {
      "text/plain": [
       "(6.246407320807503, 64.21727322477842)"
      ]
     },
     "metadata": {},
     "output_type": "display_data"
    }
   ],
   "source": [
    "mind = Inf\n",
    "maxd = 0.\n",
    "x0 = 1.\n",
    "u0 = 0.\n",
    "for i in 1:50\n",
    "    sp = SamplerPWCET(0.4, 100)\n",
    "    # Construct an automaton with no constraint\n",
    "    a = hold_kill(c2d(sys, h), delay_lqr(sys, h))\n",
    "    dub = estimate_deviation(a, sp, [fill(x0, size(sys.A, 1)); u0], c, B)\n",
    "    mind = min(mind, dub)\n",
    "    maxd = max(maxd, dub)\n",
    "end\n",
    "mind, maxd"
   ]
  },
  {
   "cell_type": "code",
   "execution_count": 26,
   "metadata": {},
   "outputs": [
    {
     "data": {
      "text/plain": [
       "(0.36408893924524055, 0.7094895849973271)"
      ]
     },
     "metadata": {},
     "output_type": "display_data"
    }
   ],
   "source": [
    "mind = Inf\n",
    "maxd = 0.\n",
    "sys = benchmarks[:F1T]\n",
    "x0 = 1.\n",
    "u0 = 0.\n",
    "for i in 1:50\n",
    "    sp = SamplerPWCET(0.9, 100)\n",
    "    # Construct an automaton with no constraint\n",
    "    a = hold_kill(c2d(sys, h), delay_lqr(sys, h))\n",
    "    dub = estimate_deviation(a, sp, [fill(x0, size(sys.A, 1)); u0], c, B)\n",
    "    mind = min(mind, dub)\n",
    "    maxd = max(maxd, dub)\n",
    "end\n",
    "mind, maxd"
   ]
  },
  {
   "cell_type": "code",
   "execution_count": 27,
   "metadata": {},
   "outputs": [
    {
     "data": {
      "text/plain": [
       "(0.1786396896500381, 0.36408893924524055)"
      ]
     },
     "metadata": {},
     "output_type": "display_data"
    }
   ],
   "source": [
    "mind = Inf\n",
    "maxd = 0.\n",
    "sys = benchmarks[:F1T]\n",
    "x0 = 1.\n",
    "u0 = 0.\n",
    "for i in 1:50\n",
    "    sp = SamplerPWCET(0.99, 100)\n",
    "    # Construct an automaton with no constraint\n",
    "    a = hold_kill(c2d(sys, h), delay_lqr(sys, h))\n",
    "    dub = estimate_deviation(a, sp, [fill(x0, size(sys.A, 1)); u0], c, B)\n",
    "    mind = min(mind, dub)\n",
    "    maxd = max(maxd, dub)\n",
    "end\n",
    "mind, maxd"
   ]
  },
  {
   "cell_type": "markdown",
   "metadata": {
    "tags": []
   },
   "source": [
    "### Likelihood Ratio Test"
   ]
  },
  {
   "cell_type": "markdown",
   "metadata": {},
   "source": [
    "\\begin{align}\n",
    "\\lambda_{LR} &=\\frac{\\sup_{\\theta_0\\in\\Theta_0}{L}(\\theta_0)}{\\sup_{\\theta\\in\\Theta}L(\\theta)} \\\\\n",
    "&= \\frac{\\binom{n}{x} \\theta_0^x (1-\\theta_0)^{n-x}}{\\binom{n}{x} \\theta^x (1-\\theta)^{n-x}} \\\\\n",
    "&= \\frac{\\theta_0^x (1-\\theta_0)^{n-x}}{ \\theta^x (1-\\theta)^{n-x}} \\\\\n",
    "&= \\left(\\frac{\\theta_0}{\\theta}\\right)^x + \\left(\\frac{1-\\theta_0}{1-\\theta}\\right)^{n-x}\n",
    "\\end{align}"
   ]
  },
  {
   "cell_type": "markdown",
   "metadata": {},
   "source": [
    "\\begin{align}\n",
    "&= -2 \\ln \\left[ \\frac{\\binom{n}{k} \\theta_0^x (1-\\theta_0)^{n-x}}{\\binom{n}{k} \\theta_1^x (1-\\theta_1)^{n-x}} \\right] \\\\\n",
    "&= -2 \\ln \\left[ \\frac{\\theta_0^x (1-\\theta_0)^{n-x}}{ \\theta_1^x (1-\\theta_1)^{n-x}} \\right] \\\\\n",
    "&= -2 (x \\ln \\frac{\\theta_0}{\\theta_1} + (n-x) \\ln \\frac{1-\\theta_0}{1-\\theta_1})\n",
    "\\end{align}"
   ]
  },
  {
   "cell_type": "code",
   "execution_count": 28,
   "metadata": {},
   "outputs": [
    {
     "data": {
      "text/plain": [
       "1.0"
      ]
     },
     "metadata": {},
     "output_type": "display_data"
    }
   ],
   "source": [
    "lr_test(0.99, 100, 99)"
   ]
  },
  {
   "cell_type": "code",
   "execution_count": 29,
   "metadata": {},
   "outputs": [
    {
     "data": {
      "text/plain": [
       "0.0002383480021365628"
      ]
     },
     "metadata": {},
     "output_type": "display_data"
    }
   ],
   "source": [
    "lr_test(0.99, 830, 830)"
   ]
  },
  {
   "cell_type": "code",
   "execution_count": 30,
   "metadata": {},
   "outputs": [
    {
     "data": {
      "text/plain": [
       "0.00023886693883315912"
      ]
     },
     "metadata": {},
     "output_type": "display_data"
    }
   ],
   "source": [
    "lr_test_2(0.99, 8782, 0.005)"
   ]
  },
  {
   "cell_type": "code",
   "execution_count": 31,
   "metadata": {},
   "outputs": [
    {
     "data": {
      "text/plain": [
       "0.00024492899776616477"
      ]
     },
     "metadata": {},
     "output_type": "display_data"
    }
   ],
   "source": [
    "lr_test_2(0.99, 46500, 0.002)"
   ]
  },
  {
   "cell_type": "markdown",
   "metadata": {},
   "source": [
    "Likelihood ratio with null hypothesis: true $\\theta$ is within a range (e.g., $[0.899, 0.991]$) instead of $\\theta>0.99$ vs $\\theta<0.99$."
   ]
  },
  {
   "cell_type": "code",
   "execution_count": 32,
   "metadata": {},
   "outputs": [
    {
     "data": {
      "text/plain": [
       "0.000238497"
      ]
     },
     "metadata": {},
     "output_type": "display_data"
    }
   ],
   "source": [
    "err = 0.000238497"
   ]
  },
  {
   "cell_type": "code",
   "execution_count": 33,
   "metadata": {},
   "outputs": [
    {
     "ename": "ErrorException",
     "evalue": "syntax: missing comma or ) in argument list",
     "output_type": "error",
     "traceback": [
      "syntax: missing comma or ) in argument list\n",
      "\n",
      "Stacktrace:\n",
      " [1] top-level scope\n",
      "   @ ~/pwcet-safety/src/main.ipynb:8"
     ]
    }
   ],
   "source": [
    "n = 8782\n",
    "for p in [0.99, 0.90, 0.50, 0.10]\n",
    "    mind = Inf\n",
    "    maxd = 0.\n",
    "    devest_t = 0\n",
    "    for i in 1:50\n",
    "        t = time()\n",
    "        lrres = sim(σ p, n)\n",
    "        x = round(Int64, n * 0.99)\n",
    "        dev = lrres[x][2]\n",
    "        devest_t += time() - t\n",
    "        \n",
    "        mind = min(mind, dev)\n",
    "        maxd = max(maxd, dev)\n",
    "    end\n",
    "    @info p devest_t mind maxd maxd/mind\n",
    "end"
   ]
  },
  {
   "cell_type": "markdown",
   "metadata": {},
   "source": [
    "### Control Variate"
   ]
  },
  {
   "cell_type": "code",
   "execution_count": 21,
   "metadata": {},
   "outputs": [
    {
     "data": {
      "text/plain": [
       "StatsModels.TableRegressionModel{LinearModel{GLM.LmResp{Vector{Float64}}, GLM.DensePredChol{Float64, LinearAlgebra.CholeskyPivoted{Float64, Matrix{Float64}, Vector{Int64}}}}, Matrix{Float64}}\n",
       "\n",
       "Dev ~ 1 + CM5\n",
       "\n",
       "Coefficients:\n",
       "─────────────────────────────────────────────────────────────────────────────────\n",
       "                   Coef.   Std. Error       t  Pr(>|t|)    Lower 95%    Upper 95%\n",
       "─────────────────────────────────────────────────────────────────────────────────\n",
       "(Intercept)  -0.00285842  0.00025315   -11.29    <1e-28  -0.00335459  -0.00236225\n",
       "CM5           0.0555432   0.000262503  211.59    <1e-99   0.0550287    0.0560577\n",
       "─────────────────────────────────────────────────────────────────────────────────"
      ]
     },
     "metadata": {},
     "output_type": "display_data"
    }
   ],
   "source": [
    "# Using values from simulation\n",
    "\n",
    "res = res90\n",
    "devs = map(x -> x[2], res)\n",
    "σs = map(x -> x[1], res)\n",
    "σs5 = map(x -> x[1:10], σs)\n",
    "\n",
    "X = devs\n",
    "Y = missrow.(σs)\n",
    "Y5 = missrow.(σs5)\n",
    "Z = misstotal.(σs)\n",
    "Z5 = misstotal.(σs5)\n",
    "U = missfirst.(σs)\n",
    "\n",
    "data = DataFrame(Dev=X, CM=Y, TM=Z, FM=U, CM5=Y5, TM5=Z5)\n",
    "\n",
    "ols_y = lm(@formula(Dev ~ CM5), data)"
   ]
  },
  {
   "cell_type": "code",
   "execution_count": 35,
   "metadata": {},
   "outputs": [
    {
     "data": {
      "text/plain": [
       "StatsModels.TableRegressionModel{LinearModel{GLM.LmResp{Vector{Float64}}, GLM.DensePredChol{Float64, LinearAlgebra.CholeskyPivoted{Float64, Matrix{Float64}, Vector{Int64}}}}, Matrix{Float64}}\n",
       "\n",
       "Dev ~ 1 + TM5\n",
       "\n",
       "Coefficients:\n",
       "───────────────────────────────────────────────────────────────────────────────────\n",
       "                    Coef.   Std. Error       t  Pr(>|t|)    Lower 95%     Upper 95%\n",
       "───────────────────────────────────────────────────────────────────────────────────\n",
       "(Intercept)  -0.000558471  0.000233766   -2.39    0.0169  -0.00101665  -0.000100292\n",
       "TM5           0.0390005    0.000169499  230.09    <1e-99   0.0386683    0.0393327\n",
       "───────────────────────────────────────────────────────────────────────────────────"
      ]
     },
     "metadata": {},
     "output_type": "display_data"
    }
   ],
   "source": [
    "ols_z = lm(@formula(Dev ~ TM5), data)"
   ]
  },
  {
   "cell_type": "code",
   "execution_count": 36,
   "metadata": {},
   "outputs": [
    {
     "data": {
      "text/plain": [
       "StatsModels.TableRegressionModel{LinearModel{GLM.LmResp{Vector{Float64}}, GLM.DensePredChol{Float64, LinearAlgebra.CholeskyPivoted{Float64, Matrix{Float64}, Vector{Int64}}}}, Matrix{Float64}}\n",
       "\n",
       "Dev ~ 1 + FM\n",
       "\n",
       "Coefficients:\n",
       "──────────────────────────────────────────────────────────────────────────────────\n",
       "                   Coef.   Std. Error        t  Pr(>|t|)    Lower 95%    Upper 95%\n",
       "──────────────────────────────────────────────────────────────────────────────────\n",
       "(Intercept)   0.0706978   0.000253963   278.38    <1e-99   0.0702       0.0711955\n",
       "FM           -0.00322358  1.84135e-5   -175.07    <1e-99  -0.00325967  -0.00318749\n",
       "──────────────────────────────────────────────────────────────────────────────────"
      ]
     },
     "metadata": {},
     "output_type": "display_data"
    }
   ],
   "source": [
    "ols_u = lm(@formula(Dev ~ FM), data)"
   ]
  },
  {
   "cell_type": "code",
   "execution_count": 38,
   "metadata": {},
   "outputs": [
    {
     "data": {
      "text/plain": [
       "0.9896512996695426"
      ]
     },
     "metadata": {},
     "output_type": "display_data"
    }
   ],
   "source": [
    "Fcv(0.316, res90, missrow, 1.7)"
   ]
  },
  {
   "cell_type": "code",
   "execution_count": 31,
   "metadata": {},
   "outputs": [
    {
     "data": {
      "text/plain": [
       "0.9897600000000001"
      ]
     },
     "metadata": {},
     "output_type": "display_data"
    }
   ],
   "source": [
    "s = 0\n",
    "    for (σ, devation) in res90\n",
    "        if devation <= 0.316\n",
    "        s += 1\n",
    "        end\n",
    "    end\n",
    "nmc = (1/n) * s"
   ]
  },
  {
   "cell_type": "code",
   "execution_count": 36,
   "metadata": {},
   "outputs": [
    {
     "data": {
      "text/plain": [
       "1.69238"
      ]
     },
     "metadata": {},
     "output_type": "display_data"
    }
   ],
   "source": [
    "calculate_mean_miss(missrow, res90)"
   ]
  }
 ],
 "metadata": {
  "kernelspec": {
   "display_name": "Julia 1.9.1",
   "language": "julia",
   "name": "julia-1.9"
  },
  "language_info": {
   "file_extension": ".jl",
   "mimetype": "application/julia",
   "name": "julia",
   "version": "1.9.1"
  }
 },
 "nbformat": 4,
 "nbformat_minor": 4
}
