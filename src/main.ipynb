{
 "cells": [
  {
   "cell_type": "code",
   "execution_count": null,
   "metadata": {},
   "outputs": [],
   "source": [
    "using DataFrames\n",
    "using ControlSystemsBase\n",
    "using Statistics\n",
    "using Distributions\n",
    "using Plots\n",
    "using JLD\n",
    "using GLM\n",
    "\n",
    "using RealTimeScheduling\n",
    "using ControlTimingSafety\n",
    "\n",
    "push!(LOAD_PATH, \"../lib\")\n",
    "using Experiments\n",
    "using Benchmarks"
   ]
  },
  {
   "cell_type": "markdown",
   "metadata": {
    "tags": []
   },
   "source": [
    "## SHT\n",
    "\n",
    "Address the issue about equal prior belief for $H_0$ and $H_1$. Recall that given deviation upper bound $d_{ub}$, confidence level $c$, and the set of all possible samples $X$, the two hypothesis are defined as follows:\n",
    "$$\n",
    "\\DeclareMathOperator{\\dev}{Deviation}\n",
    "H_0: Pr(\\dev(x) < d_{ub} | x \\in X) < c \\\\\n",
    "H_1: Pr(\\dev(x) < d_{ub} | x \\in X) > c\n",
    "$$\n",
    "assuming that the sample $x$ is drawn uniformly from the set $X$.\n"
   ]
  },
  {
   "cell_type": "markdown",
   "metadata": {},
   "source": [
    "\n",
    "In the paper, the Bayes Factor $B$ is used to compute $K$, the number of required samples to draw to give \n",
    "\\begin{align}\n",
    "\\frac{Pr(H_1)}{Pr(H_0)} B &= \\frac{Pr(H_1|Data)}{Pr(H_0|Data)} \\\\\n",
    "\\frac{Pr(H_1)}{Pr(H_0)} B &= \\frac{\\frac{Pr(Data|H_1)Pr(H_1)}{Pr(Data)}}{\\frac{Pr(Data|H_0)Pr(H_0)}{Pr(Data)}} \\\\\n",
    "B &= \\frac{Pr(Data|H_1)}{Pr(Data|H_0)} \\\\\n",
    "B &= \\frac{\\int_c^1 P(Data|\\theta=q, H_1) f_{\\theta|H_1}(q)dq}\n",
    "          {\\int_0^c P(Data|\\theta=q, H_0) f_{\\theta|H_0}(q)dq} \\\\\n",
    "B &= \\frac{\\int_c^1 P(Data|\\theta=q, H_1) \\frac{1}{1-c} dq}\n",
    "          {\\int_0^c P(Data|\\theta=q, H_0) \\frac{1}{c} dq} \\\\\n",
    "B &= \\frac{c \\int_c^1 q^K dq}\n",
    "          {(1-c) \\int_0^c q^K dq} \\\\\n",
    "\\frac{1-c}{c} B &= \\frac{\\int_c^1 q^K dq}\n",
    "                        {\\int_0^c q^K dq} \\\\\n",
    "K &= -\\log_c(\\frac{1-c}{c}B + 1)\n",
    "\\end{align}\n",
    "\n",
    "<!-- Traditionally, a Bayes factor $B$ of $100$ is considered extreme evidence favoring the alternative hypothesis. However, the paper we are based on states the type-I error is expressed by\n",
    "$$\n",
    "err = \\frac{c}{c(1-c)B}\n",
    "$$\n",
    "Which is ~$.497$ when $B=100$, and ~$.000238$ when $B=4.15e5$. -->"
   ]
  },
  {
   "cell_type": "code",
   "execution_count": null,
   "metadata": {
    "tags": []
   },
   "outputs": [],
   "source": [
    "let\n",
    "    c = 0.99\n",
    "    B = 100\n",
    "    e = c/(c+(1-c)*B)\n",
    "    B_og = 4.15e5\n",
    "    e_og = c/(c+(1-c)*B_og)\n",
    "    [e e_og]\n",
    "end"
   ]
  },
  {
   "cell_type": "code",
   "execution_count": null,
   "metadata": {
    "tags": []
   },
   "outputs": [],
   "source": [
    "let\n",
    "    c = [0.9, 0.99, 0.999, 0.9999, 1-1e-10, 1-1e-15, 1-1e-16]\n",
    "    [-log.(c, c./ (1 .- c)) -log.(c, 4.15e5+1)]\n",
    "end"
   ]
  },
  {
   "cell_type": "code",
   "execution_count": null,
   "metadata": {
    "tags": []
   },
   "outputs": [],
   "source": [
    "let\n",
    "    B = 4.15e5\n",
    "    c = [0.9, 0.99, 0.999, 0.9999, 1-1e-10, 1-1e-15, 1-1e-16]\n",
    "    # effective_B = c ./ (1 .- c) * B\n",
    "    effective_B = (1 .- c) ./ c * B\n",
    "    K = -log.(c, effective_B .+ 1)\n",
    "    K_og = -log.(c, B+1)\n",
    "\n",
    "    round.([c K_og K K_og./K], sigdigits=4)\n",
    "end"
   ]
  },
  {
   "cell_type": "code",
   "execution_count": null,
   "metadata": {
    "tags": []
   },
   "outputs": [],
   "source": [
    "let\n",
    "    B = 100\n",
    "    c = [0.9, 0.99, 0.999, 0.9999, 1-1e-10, 1-1e-15, 1-1e-16]\n",
    "    # effective_B = c ./ (1 .- c) * B\n",
    "    effective_B = (1 .- c) ./ c * B\n",
    "    K = -log.(c, effective_B .+ 1)\n",
    "    K_og = -log.(c, B+1)\n",
    "\n",
    "    round.([c K_og K], sigdigits=4)\n",
    "end"
   ]
  },
  {
   "cell_type": "markdown",
   "metadata": {},
   "source": [
    "## Experiments"
   ]
  },
  {
   "cell_type": "markdown",
   "metadata": {
    "tags": []
   },
   "source": [
    "### pWCET Sampler"
   ]
  },
  {
   "cell_type": "code",
   "execution_count": null,
   "metadata": {},
   "outputs": [],
   "source": [
    "sp = SamplerPWCET(0.9, 100)"
   ]
  },
  {
   "cell_type": "code",
   "execution_count": null,
   "metadata": {},
   "outputs": [],
   "source": [
    "mean([sum(rand(sp)) for i in 1:100])"
   ]
  },
  {
   "cell_type": "markdown",
   "metadata": {
    "tags": []
   },
   "source": [
    "### System Dynamics\n",
    "\n",
    "Open-loop stable system:\n",
    "$$\n",
    "\\mathbf{\\dot{x}}(t) = \\begin{bmatrix} -6.0 & 1.0 \\\\ 0.2 & -0.7 \\end{bmatrix} \\mathbf{x}(t) +\n",
    "\\begin{bmatrix} 5.0 \\\\ 0.5 \\end{bmatrix} u(t)\n",
    "$$\n",
    "where\n",
    "$$\n",
    "\\mathbf{x}(t) = \\begin{bmatrix} x_1(t) \\\\ x_2(t) \\end{bmatrix}\n",
    "$$\n",
    "is the system state and $u(t)$ is the control input.\n",
    "\n",
    "We also have a open-loop unstable system:\n",
    "$$\n",
    "\\mathbf{\\dot{x}}(t) = \\begin{bmatrix} 0 & 6.5 \\\\ 0 & 0 \\end{bmatrix} \\mathbf{x}(t) +\n",
    "\\begin{bmatrix} 0 \\\\ 19.685 \\end{bmatrix} u(t)\n",
    "$$"
   ]
  },
  {
   "cell_type": "code",
   "execution_count": null,
   "metadata": {
    "collapsed": true,
    "jupyter": {
     "outputs_hidden": true
    },
    "tags": []
   },
   "outputs": [],
   "source": [
    "benchmarks[:RCN], benchmarks[:F1T]"
   ]
  },
  {
   "cell_type": "code",
   "execution_count": null,
   "metadata": {},
   "outputs": [],
   "source": [
    "# Setting parameters for the experiment\n",
    "H = 100\n",
    "c = 0.99\n",
    "B = 4.15e5\n",
    "h = 0.02\n",
    "sys = benchmarks[:F1T]\n",
    "x0 = 1.\n",
    "u0 = 0.\n",
    "z0 = [fill(x0, size(sys.A, 1)); u0]\n",
    "\n",
    "# Construct an automaton with no constraint\n",
    "a = hold_kill(c2d(sys, h), delay_lqr(sys, h))"
   ]
  },
  {
   "cell_type": "markdown",
   "metadata": {
    "tags": []
   },
   "source": [
    "### Simulations"
   ]
  },
  {
   "cell_type": "code",
   "execution_count": null,
   "metadata": {},
   "outputs": [],
   "source": [
    "n = 100000\n",
    "res99 = sim(a, z0, 0.99, n)\n",
    "res90 = sim(a, z0, 0.90, n)\n",
    "res50 = sim(a, z0, 0.50, n)"
   ]
  },
  {
   "cell_type": "code",
   "execution_count": null,
   "metadata": {},
   "outputs": [],
   "source": [
    "n = 100000\n",
    "res90 = sim(a, z0, 0.90, n)"
   ]
  },
  {
   "cell_type": "code",
   "execution_count": null,
   "metadata": {},
   "outputs": [],
   "source": [
    "res10 = sim(a, z0, 0.10, n)"
   ]
  },
  {
   "cell_type": "code",
   "execution_count": null,
   "metadata": {},
   "outputs": [],
   "source": [
    "save(\"../data/res99.jld\", \"res99\", res99)\n",
    "save(\"../data/res99.jld\", \"res90\", res90)\n",
    "save(\"../data/res50.jld\", \"res50\", res50)"
   ]
  },
  {
   "cell_type": "code",
   "execution_count": null,
   "metadata": {},
   "outputs": [],
   "source": [
    "save(\"../data/res50.jld\", \"res10\", res10)"
   ]
  },
  {
   "cell_type": "code",
   "execution_count": null,
   "metadata": {},
   "outputs": [],
   "source": [
    "devs99 = map(x -> x[2], res99)\n",
    "sigm99 = map(x -> x[1], res99);"
   ]
  },
  {
   "cell_type": "code",
   "execution_count": null,
   "metadata": {},
   "outputs": [],
   "source": [
    "map(filter(x -> misstotal(x[1]) < 3, res99)) do x\n",
    "    (missfirst(x[1]), x[2])\n",
    "end"
   ]
  },
  {
   "cell_type": "code",
   "execution_count": null,
   "metadata": {},
   "outputs": [],
   "source": [
    "map(collect(filter(x -> misstotal(x[1]) < 3, res99))[end-3:end]) do x\n",
    "    println(x[1], x[2])\n",
    "end"
   ]
  },
  {
   "cell_type": "code",
   "execution_count": null,
   "metadata": {
    "tags": []
   },
   "outputs": [],
   "source": [
    "res = res90\n",
    "devs = map(x -> x[2], res)\n",
    "σs = map(x -> x[1], res)\n",
    "σs3 = map(x -> x[1:3], σs)\n",
    "σs5 = map(x -> x[1:5], σs)\n",
    "σs7 = map(x -> x[1:7], σs)\n",
    "σsx = map(x -> x[1:10], σs)\n",
    "σx = σs7\n",
    "p1 = plot(devs, (1:length(res)) ./ length(res), \n",
    "    xlabel=\"Deviation\", ylabel=\"Probability\", label=\"cdf\", title=\"p=0.10\")\n",
    "p2 = plot(missrow.(σx), devs,\n",
    "    ylabel=\"Deviation\", xlabel=\"Consecutive Misses\", label=\"p=0.9\")\n",
    "p3 = plot(misstotal.(σx), devs,\n",
    "    ylabel=\"Deviation\", xlabel=\"Total Misses\")\n",
    "p4 = plot(missfirst.(σs), devs,\n",
    "    ylabel=\"Deviation\", xlabel=\"First Miss\")\n",
    "for c in [0.99]\n",
    "    dev = devs[round(Int64, length(res)*c)]\n",
    "    scatter!(p1, [dev], [c], label=\"99th quantile = $(round(dev, sigdigits=3))\")\n",
    "end\n",
    "println(length(res))\n",
    "savefig(p2, \"cv_cm_7.pdf\")\n",
    "savefig(p3, \"cv_tm_7.pdf\")\n",
    "display(p3)"
   ]
  },
  {
   "cell_type": "code",
   "execution_count": null,
   "metadata": {},
   "outputs": [],
   "source": [
    "for res in [res99, res90, res50, res10]\n",
    "    devs = map(x -> x[2], res)\n",
    "    dev = devs[round(Int64, length(res)*0.99)]\n",
    "    println(round.([dev, devs[end], dev/devs[end]], sigdigits=3))\n",
    "end"
   ]
  },
  {
   "cell_type": "markdown",
   "metadata": {
    "tags": []
   },
   "source": [
    "### Deviation Estimation"
   ]
  },
  {
   "cell_type": "code",
   "execution_count": null,
   "metadata": {},
   "outputs": [],
   "source": [
    "for p in [0.1, 0.5, 0.9, 0.99]\n",
    "    mind = Inf\n",
    "    maxd = 0.\n",
    "    sample_t = 0\n",
    "    devest_t = 0\n",
    "    for i in 1:50\n",
    "        t = time()\n",
    "        sp = SamplerPWCET(p, 100)\n",
    "        sample_t += time() - t\n",
    "\n",
    "        t = time()\n",
    "        dub = estimate_deviation(a, sp, z0, c, B)\n",
    "        devest_t += time() - t\n",
    "\n",
    "        mind = min(mind, dub)\n",
    "        maxd = max(maxd, dub)\n",
    "    end\n",
    "    @info p sample_t devest_t mind maxd\n",
    "end"
   ]
  },
  {
   "cell_type": "code",
   "execution_count": null,
   "metadata": {},
   "outputs": [],
   "source": [
    "for p in [0.1, 0.5, 0.9, 0.99]\n",
    "    mind = Inf\n",
    "    maxd = 0.\n",
    "    sample_t = 0\n",
    "    devest_t = 0\n",
    "    for i in 1:50\n",
    "        t = time()\n",
    "        sp = SamplerPWCET(p, 100)\n",
    "        sample_t += time() - t\n",
    "\n",
    "        t = time()\n",
    "        dub = estimate_deviation(a, sp, z0, c, B)\n",
    "        devest_t += time() - t\n",
    "\n",
    "        mind = min(mind, dub)\n",
    "        maxd = max(maxd, dub)\n",
    "    end\n",
    "    @info p sample_t devest_t mind maxd maxd/mind\n",
    "end"
   ]
  },
  {
   "cell_type": "code",
   "execution_count": null,
   "metadata": {},
   "outputs": [],
   "source": [
    "mind = Inf\n",
    "maxd = 0.\n",
    "x0 = 1.\n",
    "u0 = 0.\n",
    "for i in 1:50\n",
    "    sp = SamplerPWCET(0.4, 100)\n",
    "    # Construct an automaton with no constraint\n",
    "    a = hold_kill(c2d(sys, h), delay_lqr(sys, h))\n",
    "    dub = estimate_deviation(a, sp, [fill(x0, size(sys.A, 1)); u0], c, B)\n",
    "    mind = min(mind, dub)\n",
    "    maxd = max(maxd, dub)\n",
    "end\n",
    "mind, maxd"
   ]
  },
  {
   "cell_type": "code",
   "execution_count": null,
   "metadata": {},
   "outputs": [],
   "source": [
    "mind = Inf\n",
    "maxd = 0.\n",
    "sys = benchmarks[:F1T]\n",
    "x0 = 1.\n",
    "u0 = 0.\n",
    "for i in 1:50\n",
    "    sp = SamplerPWCET(0.9, 100)\n",
    "    # Construct an automaton with no constraint\n",
    "    a = hold_kill(c2d(sys, h), delay_lqr(sys, h))\n",
    "    dub = estimate_deviation(a, sp, [fill(x0, size(sys.A, 1)); u0], c, B)\n",
    "    mind = min(mind, dub)\n",
    "    maxd = max(maxd, dub)\n",
    "end\n",
    "mind, maxd"
   ]
  },
  {
   "cell_type": "code",
   "execution_count": null,
   "metadata": {},
   "outputs": [],
   "source": [
    "mind = Inf\n",
    "maxd = 0.\n",
    "sys = benchmarks[:F1T]\n",
    "x0 = 1.\n",
    "u0 = 0.\n",
    "for i in 1:50\n",
    "    sp = SamplerPWCET(0.99, 100)\n",
    "    # Construct an automaton with no constraint\n",
    "    a = hold_kill(c2d(sys, h), delay_lqr(sys, h))\n",
    "    dub = estimate_deviation(a, sp, [fill(x0, size(sys.A, 1)); u0], c, B)\n",
    "    mind = min(mind, dub)\n",
    "    maxd = max(maxd, dub)\n",
    "end\n",
    "mind, maxd"
   ]
  },
  {
   "cell_type": "markdown",
   "metadata": {
    "tags": []
   },
   "source": [
    "### Likelihood Ratio Test"
   ]
  },
  {
   "cell_type": "markdown",
   "metadata": {},
   "source": [
    "\\begin{align}\n",
    "\\lambda_{LR} &=\\frac{\\sup_{\\theta_0\\in\\Theta_0}{L}(\\theta_0)}{\\sup_{\\theta\\in\\Theta}L(\\theta)} \\\\\n",
    "&= \\frac{\\binom{n}{x} \\theta_0^x (1-\\theta_0)^{n-x}}{\\binom{n}{x} \\theta^x (1-\\theta)^{n-x}} \\\\\n",
    "&= \\frac{\\theta_0^x (1-\\theta_0)^{n-x}}{ \\theta^x (1-\\theta)^{n-x}} \\\\\n",
    "&= \\left(\\frac{\\theta_0}{\\theta}\\right)^x + \\left(\\frac{1-\\theta_0}{1-\\theta}\\right)^{n-x}\n",
    "\\end{align}"
   ]
  },
  {
   "cell_type": "markdown",
   "metadata": {},
   "source": [
    "\\begin{align}\n",
    "&= -2 \\ln \\left[ \\frac{\\binom{n}{k} \\theta_0^x (1-\\theta_0)^{n-x}}{\\binom{n}{k} \\theta_1^x (1-\\theta_1)^{n-x}} \\right] \\\\\n",
    "&= -2 \\ln \\left[ \\frac{\\theta_0^x (1-\\theta_0)^{n-x}}{ \\theta_1^x (1-\\theta_1)^{n-x}} \\right] \\\\\n",
    "&= -2 (x \\ln \\frac{\\theta_0}{\\theta_1} + (n-x) \\ln \\frac{1-\\theta_0}{1-\\theta_1})\n",
    "\\end{align}"
   ]
  },
  {
   "cell_type": "code",
   "execution_count": null,
   "metadata": {},
   "outputs": [],
   "source": [
    "lr_test(0.99, 100, 99)"
   ]
  },
  {
   "cell_type": "code",
   "execution_count": null,
   "metadata": {},
   "outputs": [],
   "source": [
    "lr_test(0.99, 830, 830)"
   ]
  },
  {
   "cell_type": "code",
   "execution_count": null,
   "metadata": {},
   "outputs": [],
   "source": [
    "lr_test_2(0.99, 8782, 0.005)"
   ]
  },
  {
   "cell_type": "code",
   "execution_count": null,
   "metadata": {},
   "outputs": [],
   "source": [
    "lr_test_2(0.99, 46500, 0.002)"
   ]
  },
  {
   "cell_type": "markdown",
   "metadata": {},
   "source": [
    "Likelihood ratio with null hypothesis: true $\\theta$ is within a range (e.g., $[0.899, 0.991]$) instead of $\\theta>0.99$ vs $\\theta<0.99$."
   ]
  },
  {
   "cell_type": "code",
   "execution_count": null,
   "metadata": {},
   "outputs": [],
   "source": [
    "err = 0.000238497"
   ]
  },
  {
   "cell_type": "code",
   "execution_count": null,
   "metadata": {},
   "outputs": [],
   "source": [
    "n = 8782\n",
    "for p in [0.99, 0.90, 0.50, 0.10]\n",
    "    mind = Inf\n",
    "    maxd = 0.\n",
    "    devest_t = 0\n",
    "    for i in 1:50\n",
    "        t = time()\n",
    "        lrres = sim(σ p, n)\n",
    "        x = round(Int64, n * 0.99)\n",
    "        dev = lrres[x][2]\n",
    "        devest_t += time() - t\n",
    "        \n",
    "        mind = min(mind, dev)\n",
    "        maxd = max(maxd, dev)\n",
    "    end\n",
    "    @info p devest_t mind maxd maxd/mind\n",
    "end"
   ]
  },
  {
   "cell_type": "markdown",
   "metadata": {},
   "source": [
    "### Control Variate"
   ]
  },
  {
   "cell_type": "code",
   "execution_count": null,
   "metadata": {},
   "outputs": [],
   "source": [
    "# Using values from simulation\n",
    "\n",
    "res = res90\n",
    "devs = map(x -> x[2], res)\n",
    "σs = map(x -> x[1], res)\n",
    "σs5 = map(x -> x[1:10], σs)\n",
    "\n",
    "X = devs\n",
    "Y = missrow.(σs)\n",
    "Y5 = missrow.(σs5)\n",
    "Z = misstotal.(σs)\n",
    "Z5 = misstotal.(σs5)\n",
    "U = missfirst.(σs)\n",
    "\n",
    "data = DataFrame(Dev=X, CM=Y, TM=Z, FM=U, CM5=Y5, TM5=Z5)\n",
    "\n",
    "ols_y = lm(@formula(Dev ~ CM5), data)"
   ]
  },
  {
   "cell_type": "code",
   "execution_count": null,
   "metadata": {},
   "outputs": [],
   "source": [
    "ols_z = lm(@formula(Dev ~ TM5), data)"
   ]
  },
  {
   "cell_type": "code",
   "execution_count": null,
   "metadata": {},
   "outputs": [],
   "source": [
    "ols_u = lm(@formula(Dev ~ FM), data)"
   ]
  },
  {
   "cell_type": "code",
   "execution_count": null,
   "metadata": {},
   "outputs": [],
   "source": [
    "FcvW(0.1566, 10, res90, misstotal)"
   ]
  },
  {
   "cell_type": "code",
   "execution_count": null,
   "metadata": {},
   "outputs": [],
   "source": [
    "inverse_fcv(0.99, x, res50, missfirst)"
   ]
  },
  {
   "cell_type": "code",
   "execution_count": null,
   "metadata": {},
   "outputs": [],
   "source": [
    "calculate_mean_miss(misstotal,res99)"
   ]
  },
  {
   "attachments": {},
   "cell_type": "markdown",
   "metadata": {},
   "source": [
    "## Analytic solution"
   ]
  },
  {
   "attachments": {},
   "cell_type": "markdown",
   "metadata": {},
   "source": [
    "### Mean for first miss\n",
    "The probability $P(n)$ of first miss occurs in position $n$ in a string of length $k (k \\ge n)$ with hit probablity $a (0\\le a\\le1)$ is:\n",
    "$$\n",
    "P(n)=a^{n-1}\\cdot (1-a)\n",
    "$$\n",
    "The mean value of the position of first miss $M(k)$ can be expressed as:\n",
    "$$\n",
    "\\begin{align}\n",
    "M(k)&=\\sum^{k}_{n=1}nP(n)\\\\\n",
    "&=(1-a)\\sum^{k}_{n=1}na^{n-1}\\\\\n",
    "&=(1-a)\\sum^{k}_{n=1}\\frac{d}{da}a^n\\\\\n",
    "&=(1-a)\\frac{d}{da}\\sum^{k}_{n=1}a^n\\\\\n",
    "&=(1-a)\\frac{d}{da}\\frac{a(1-a^k)}{1-a}\\\\\n",
    "&=\\frac{ka^{k+1}-(k+1)a^k+1}{1-a}\n",
    "\\end{align}\n",
    "$$"
   ]
  },
  {
   "attachments": {},
   "cell_type": "markdown",
   "metadata": {},
   "source": [
    "### Mean for total miss\n",
    "The probability $P(n)$ of $n$ total misses occurs  in a string of length $k (k \\ge n)$ with hit probablity $a (0\\le a\\le1)$ is:\n",
    "$$\n",
    "P(n)= {k \\choose n}a^{k-n}(1-a)^n\n",
    "$$\n",
    "Let $1-a=x$.\n",
    "The mean value of the total number of misses $M(k)$ can be expressed as:\n",
    "$$\n",
    "\\begin{align}\n",
    "M(k)&=\\sum^{k}_{n=1}nP(n)\\\\\n",
    "&=\\sum^{k}_{n=1}n{k \\choose n}a^{k-n}x^n\\\\\n",
    "&=x\\sum^{k}_{n=1}\\frac{d}{dx}{k \\choose n}a^{k-n}x^n\\\\\n",
    "&=x\\frac{d}{da}(a+x)^k\\\\\n",
    "&=x\\cdot k\\\\\n",
    "&=(1-a)\\cdot k\n",
    "\\end{align}"
   ]
  }
 ],
 "metadata": {
  "kernelspec": {
   "display_name": "Julia 1.9.1",
   "language": "julia",
   "name": "julia-1.9"
  },
  "language_info": {
   "file_extension": ".jl",
   "mimetype": "application/julia",
   "name": "julia",
   "version": "1.9.1"
  }
 },
 "nbformat": 4,
 "nbformat_minor": 4
}
