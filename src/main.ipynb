{
 "cells": [
  {
   "cell_type": "code",
   "execution_count": 1,
   "metadata": {},
   "outputs": [
    {
     "name": "stderr",
     "output_type": "stream",
     "text": [
      "\u001b[36m\u001b[1m[ \u001b[22m\u001b[39m\u001b[36m\u001b[1mInfo: \u001b[22m\u001b[39mPrecompiling ControlTimingSafety [3a76c758-31f1-42cb-b697-12fe755e3b12]\n",
      "\u001b[36m\u001b[1m[ \u001b[22m\u001b[39m\u001b[36m\u001b[1mInfo: \u001b[22m\u001b[39mPrecompiling Experiments [top-level]\n",
      "\u001b[36m\u001b[1m[ \u001b[22m\u001b[39m\u001b[36m\u001b[1mInfo: \u001b[22m\u001b[39mPrecompiling Benchmarks [top-level]\n"
     ]
    }
   ],
   "source": [
    "using DataFrames\n",
    "using ControlSystemsBase\n",
    "using Statistics\n",
    "\n",
    "using RealTimeScheduling\n",
    "using ControlTimingSafety\n",
    "\n",
    "push!(LOAD_PATH, \"../lib\")\n",
    "using Experiments\n",
    "using Benchmarks"
   ]
  },
  {
   "cell_type": "markdown",
   "metadata": {
    "tags": []
   },
   "source": [
    "## SHT\n",
    "\n",
    "Address the issue about equal prior belief for $H_0$ and $H_1$. Recall that given deviation upper bound $d_{ub}$, confidence level $c$, and the set of all possible samples $X$, the two hypothesis are defined as follows:\n",
    "$$\n",
    "\\DeclareMathOperator{\\dev}{Deviation}\n",
    "H_0: Pr(\\dev(x) < d_{ub} | x \\in X) < c \\\\\n",
    "H_1: Pr(\\dev(x) < d_{ub} | x \\in X) > c\n",
    "$$\n",
    "assuming that the sample $x$ is drawn uniformly from the set $X$.\n",
    "\n",
    "In the paper, the Bayes Factor $B$ is used to compute $K$, the number of required samples to draw to give \n",
    "\\begin{align}\n",
    "\\frac{Pr(H_1)}{Pr(H_0)} B &= \\frac{Pr(H_1|Data)}{Pr(H_0|Data)} \\\\\n",
    "\\frac{Pr(H_1)}{Pr(H_0)} B &= \\frac{\\frac{Pr(Data|H_1)Pr(H_1)}{Pr(Data)}}{\\frac{Pr(Data|H_0)Pr(H_0)}{Pr(Data)}} \\\\\n",
    "B &= \\frac{Pr(Data|H_1)}{Pr(Data|H_0)} \\\\\n",
    "B &= \\frac{\\int_c^1 P(Data|\\theta=q, H_1) f_{\\theta|H_1}(q)dq}\n",
    "          {\\int_0^c P(Data|\\theta=q, H_0) f_{\\theta|H_0}(q)dq} \\\\\n",
    "B &= \\frac{\\int_c^1 P(Data|\\theta=q, H_1) \\frac{1}{1-c} dq}\n",
    "          {\\int_0^c P(Data|\\theta=q, H_0) \\frac{1}{c} dq} \\\\\n",
    "B &= \\frac{c \\int_c^1 q^K dq}\n",
    "          {(1-c) \\int_0^c q^K dq} \\\\\n",
    "\\frac{1-c}{c} B &= \\frac{\\int_c^1 q^K dq}\n",
    "                        {\\int_0^c q^K dq} \\\\\n",
    "K &= -\\log_c(\\frac{1-c}{c}B + 1)\n",
    "\\end{align}\n",
    "\n",
    "<!-- Traditionally, a Bayes factor $B$ of $100$ is considered extreme evidence favoring the alternative hypothesis. However, the paper we are based on states the type-I error is expressed by\n",
    "$$\n",
    "err = \\frac{c}{c(1-c)B}\n",
    "$$\n",
    "Which is ~$.497$ when $B=100$, and ~$.000238$ when $B=4.15e5$. -->"
   ]
  },
  {
   "cell_type": "code",
   "execution_count": 25,
   "metadata": {
    "jupyter": {
     "source_hidden": true
    },
    "tags": []
   },
   "outputs": [
    {
     "data": {
      "text/plain": [
       "1×2 Matrix{Float64}:\n",
       " 0.497487  0.000238497"
      ]
     },
     "execution_count": 25,
     "metadata": {},
     "output_type": "execute_result"
    }
   ],
   "source": [
    "let\n",
    "    c = 0.99\n",
    "    B = 100\n",
    "    e = c/(c+(1-c)*B)\n",
    "    B_og = 4.15e5\n",
    "    e_og = c/(c+(1-c)*B_og)\n",
    "    [e e_og]\n",
    "end"
   ]
  },
  {
   "cell_type": "code",
   "execution_count": 38,
   "metadata": {
    "tags": []
   },
   "outputs": [
    {
     "data": {
      "text/plain": [
       "7×2 Matrix{Float64}:\n",
       "    20.8543        122.779\n",
       "   457.211        1287.12\n",
       "  6903.3         12929.6\n",
       " 92097.8             1.29354e5\n",
       "     2.30258e11      1.2936e11\n",
       "     3.45672e16      1.29464e16\n",
       "     3.30896e17      1.16517e17"
      ]
     },
     "execution_count": 38,
     "metadata": {},
     "output_type": "execute_result"
    }
   ],
   "source": [
    "let\n",
    "    c = [0.9, 0.99, 0.999, 0.9999, 1-1e-10, 1-1e-15, 1-1e-16]\n",
    "    [-log.(c, c./ (1 .- c)) -log.(c, 4.15e5+1)]\n",
    "end"
   ]
  },
  {
   "cell_type": "code",
   "execution_count": 42,
   "metadata": {
    "tags": []
   },
   "outputs": [
    {
     "data": {
      "text/plain": [
       "7×3 Matrix{Float64}:\n",
       " 0.9        122.8          101.9\n",
       " 0.99      1287.0          829.9\n",
       " 0.999    12930.0         6029.0\n",
       " 0.9999  129400.0        37490.0\n",
       " 1.0          1.294e11  415000.0\n",
       " 1.0          1.295e16  415000.0\n",
       " 1.0          1.165e17  415000.0"
      ]
     },
     "execution_count": 42,
     "metadata": {},
     "output_type": "execute_result"
    }
   ],
   "source": [
    "let\n",
    "    B = 4.15e5\n",
    "    c = [0.9, 0.99, 0.999, 0.9999, 1-1e-10, 1-1e-15, 1-1e-16]\n",
    "    # effective_B = c ./ (1 .- c) * B\n",
    "    effective_B = (1 .- c) ./ c * B\n",
    "    K = -log.(c, effective_B .+ 1)\n",
    "    K_og = -log.(c, B+1)\n",
    "\n",
    "    round.([c K_og K], sigdigits=4)\n",
    "end"
   ]
  },
  {
   "cell_type": "code",
   "execution_count": 43,
   "metadata": {
    "tags": []
   },
   "outputs": [
    {
     "data": {
      "text/plain": [
       "7×3 Matrix{Float64}:\n",
       " 0.9        43.8        23.67\n",
       " 0.99      459.2        69.47\n",
       " 0.999    4613.0        95.35\n",
       " 0.9999  46150.0        99.51\n",
       " 1.0         4.615e10  100.0\n",
       " 1.0         4.619e15  100.0\n",
       " 1.0         4.157e16  100.0"
      ]
     },
     "execution_count": 43,
     "metadata": {},
     "output_type": "execute_result"
    }
   ],
   "source": [
    "let\n",
    "    B = 100\n",
    "    c = [0.9, 0.99, 0.999, 0.9999, 1-1e-10, 1-1e-15, 1-1e-16]\n",
    "    # effective_B = c ./ (1 .- c) * B\n",
    "    effective_B = (1 .- c) ./ c * B\n",
    "    K = -log.(c, effective_B .+ 1)\n",
    "    K_og = -log.(c, B+1)\n",
    "\n",
    "    round.([c K_og K], sigdigits=4)\n",
    "end"
   ]
  },
  {
   "cell_type": "markdown",
   "metadata": {},
   "source": [
    "## Experiments"
   ]
  },
  {
   "cell_type": "markdown",
   "metadata": {},
   "source": [
    "### pWCET Sampler"
   ]
  },
  {
   "cell_type": "code",
   "execution_count": 11,
   "metadata": {},
   "outputs": [
    {
     "data": {
      "text/plain": [
       "SamplerPWCET(0.9, 100)"
      ]
     },
     "execution_count": 11,
     "metadata": {},
     "output_type": "execute_result"
    }
   ],
   "source": [
    "sp = SamplerPWCET(0.9, 100)"
   ]
  },
  {
   "cell_type": "code",
   "execution_count": 17,
   "metadata": {},
   "outputs": [
    {
     "data": {
      "text/plain": [
       "90.31"
      ]
     },
     "execution_count": 17,
     "metadata": {},
     "output_type": "execute_result"
    }
   ],
   "source": [
    "mean([sum(rand(sp)) for i in 1:100])"
   ]
  },
  {
   "cell_type": "markdown",
   "metadata": {},
   "source": [
    "### System Dynamics\n",
    "\n",
    "Open-loop stable system:\n",
    "$$\n",
    "\\mathbf{\\dot{x}}(t) = \\begin{bmatrix} -6.0 & 1.0 \\\\ 0.2 & -0.7 \\end{bmatrix} \\mathbf{x}(t) +\n",
    "\\begin{bmatrix} 5.0 \\\\ 0.5 \\end{bmatrix} u(t)\n",
    "$$\n",
    "where\n",
    "$$\n",
    "\\mathbf{x}(t) = \\begin{bmatrix} x_1(t) \\\\ x_2(t) \\end{bmatrix}\n",
    "$$\n",
    "is the system state and $u(t)$ is the control input.\n",
    "\n",
    "We also have a open-loop unstable system:\n",
    "$$\n",
    "\\mathbf{\\dot{x}}(t) = \\begin{bmatrix} 0 & 6.5 \\\\ 0 & 0 \\end{bmatrix} \\mathbf{x}(t) +\n",
    "\\begin{bmatrix} 0 \\\\ 19.685 \\end{bmatrix} u(t)\n",
    "$$"
   ]
  },
  {
   "cell_type": "markdown",
   "metadata": {},
   "source": [
    "### Deviation Estimation"
   ]
  },
  {
   "cell_type": "code",
   "execution_count": 31,
   "metadata": {},
   "outputs": [
    {
     "data": {
      "text/plain": [
       "1745"
      ]
     },
     "execution_count": 31,
     "metadata": {},
     "output_type": "execute_result"
    }
   ],
   "source": [
    "# Setting parameters for the experiment\n",
    "H = 100\n",
    "c = 0.99\n",
    "B = 4.15e5"
   ]
  },
  {
   "cell_type": "code",
   "execution_count": 34,
   "metadata": {},
   "outputs": [
    {
     "data": {
      "text/plain": [
       "StateSpace{Continuous, Float64}\n",
       "A = \n",
       " -6.0   1.0\n",
       "  0.2  -0.7\n",
       "B = \n",
       " 5.0\n",
       " 0.5\n",
       "C = \n",
       " 1.0  0.0\n",
       " 0.0  1.0\n",
       "D = \n",
       " 0.0\n",
       " 0.0\n",
       "\n",
       "Continuous-time state-space model"
      ]
     },
     "execution_count": 34,
     "metadata": {},
     "output_type": "execute_result"
    }
   ],
   "source": [
    "sys = benchmarks[:RCN]\n",
    "h = 0.02\n",
    "\n",
    "# Construct an automaton with no constraint\n",
    "a = hold_kill(c2d(sys, h), delay_lqr(sys, h))\n",
    "estimate_deviation(a, sp, "
   ]
  },
  {
   "cell_type": "code",
   "execution_count": null,
   "metadata": {},
   "outputs": [],
   "source": []
  }
 ],
 "metadata": {
  "kernelspec": {
   "display_name": "Julia 1.9.0-rc2",
   "language": "julia",
   "name": "julia-1.9-rc2"
  },
  "language_info": {
   "file_extension": ".jl",
   "mimetype": "application/julia",
   "name": "julia",
   "version": "1.9.0"
  }
 },
 "nbformat": 4,
 "nbformat_minor": 4
}
