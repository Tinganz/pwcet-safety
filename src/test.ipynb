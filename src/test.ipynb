{
 "cells": [
  {
   "cell_type": "code",
   "execution_count": 1,
   "metadata": {},
   "outputs": [
    {
     "name": "stderr",
     "output_type": "stream",
     "text": [
      "\u001b[32m\u001b[1m    Building\u001b[22m\u001b[39m Conda ─→ `~/.julia/scratchspaces/44cfe95a-1eb2-52ea-b672-e2afdf69b78f/51cab8e982c5b598eea9c8ceaced4b58d9dd37c9/build.log`\n"
     ]
    },
    {
     "name": "stderr",
     "output_type": "stream",
     "text": [
      "\u001b[32m\u001b[1m    Building\u001b[22m\u001b[39m PyCall → `~/.julia/scratchspaces/44cfe95a-1eb2-52ea-b672-e2afdf69b78f/9816a3826b0ebf49ab4926e2b18842ad8b5c8f04/build.log`\n"
     ]
    },
    {
     "data": {
      "text/plain": [
       "PyObject ['/src', '/Users/tingan/miniconda3/lib/python311.zip', '/Users/tingan/miniconda3/lib/python3.11', '/Users/tingan/miniconda3/lib/python3.11/lib-dynload', '/Users/tingan/miniconda3/lib/python3.11/site-packages']"
      ]
     },
     "metadata": {},
     "output_type": "display_data"
    }
   ],
   "source": [
    "using Pkg\n",
    "ENV[\"PYTHON\"] =\"/Users/tingan/miniconda3/bin/python\"\n",
    "using PyCall\n",
    "Pkg.build(\"PyCall\")\n",
    "pushfirst!(pyimport(\"sys\").\"path\", \"/Users/tingan/pwcet-safety/src\")"
   ]
  },
  {
   "cell_type": "code",
   "execution_count": 2,
   "metadata": {},
   "outputs": [
    {
     "ename": "PyCall.PyError",
     "evalue": "PyError ($(Expr(:escape, :(ccall(#= /Users/tingan/.julia/packages/PyCall/1gn3u/src/pyeval.jl:38 =# @pysym(:PyEval_EvalCode), PyPtr, (PyPtr, PyPtr, PyPtr), o, globals, locals))))) <class 'ModuleNotFoundError'>\nModuleNotFoundError(\"No module named 'cps'\")\n  File \"/Users/tingan/.julia/packages/PyCall/1gn3u/src/pyeval.jl\", line 1, in <module>\n    const Py_single_input = 256  # from Python.h\n    ^^^^^^^^^^^^^^^^^^\n",
     "output_type": "error",
     "traceback": [
      "PyError ($(Expr(:escape, :(ccall(#= /Users/tingan/.julia/packages/PyCall/1gn3u/src/pyeval.jl:38 =# @pysym(:PyEval_EvalCode), PyPtr, (PyPtr, PyPtr, PyPtr), o, globals, locals))))) <class 'ModuleNotFoundError'>\n",
      "ModuleNotFoundError(\"No module named 'cps'\")\n",
      "  File \"/Users/tingan/.julia/packages/PyCall/1gn3u/src/pyeval.jl\", line 1, in <module>\n",
      "    const Py_single_input = 256  # from Python.h\n",
      "    ^^^^^^^^^^^^^^^^^^\n",
      "\n",
      "\n",
      "Stacktrace:\n",
      " [1] pyerr_check\n",
      "   @ PyCall ~/.julia/packages/PyCall/1gn3u/src/exception.jl:75 [inlined]\n",
      " [2] pyerr_check\n",
      "   @ PyCall ~/.julia/packages/PyCall/1gn3u/src/exception.jl:79 [inlined]\n",
      " [3] _handle_error(msg::String)\n",
      "   @ PyCall ~/.julia/packages/PyCall/1gn3u/src/exception.jl:96\n",
      " [4] macro expansion\n",
      "   @ PyCall ~/.julia/packages/PyCall/1gn3u/src/exception.jl:110 [inlined]\n",
      " [5] #117\n",
      "   @ PyCall ~/.julia/packages/PyCall/1gn3u/src/pyeval.jl:38 [inlined]\n",
      " [6] disable_sigint\n",
      "   @ Base ./c.jl:473 [inlined]\n",
      " [7] pyeval_(s::String, globals::PyDict{String, PyObject, true}, locals::PyDict{String, PyObject, true}, input_type::Int64, fname::String)\n",
      "   @ PyCall ~/.julia/packages/PyCall/1gn3u/src/pyeval.jl:37\n",
      " [8] macro expansion\n",
      "   @ ~/.julia/packages/PyCall/1gn3u/src/pyeval.jl:230 [inlined]\n",
      " [9] top-level scope\n",
      "   @ ~/pwcet-safety/src/test.ipynb:1"
     ]
    }
   ],
   "source": [
    "py\"\"\"\n",
    "import cps as dtmc\n",
    "import matplotlib.pyplot as plt\n",
    "q = 0.99\n",
    "length = 100\n",
    "p = 0.99\n",
    "left = []\n",
    "height = []\n",
    "tick_label = []\n",
    "a = dtmc.test1d(q, dtmc.get_states(1,1),length,p,1, True)\n",
    "left.append(1)\n",
    "height.append(a)\n",
    "tick_label.append('(1,1)')\n",
    "k = 2\n",
    "for i in range(1,10):\n",
    "    for j in range(1,i):\n",
    "        a = dtmc.test1d(q, dtmc.get_states(j,i),length,p,1, True)\n",
    "        left.append(k)\n",
    "        height.append(a)\n",
    "        tick_label.append('(%s,%s)'%(j,i))\n",
    "        k += 1\n",
    "f, ax = plt.subplots(figsize=(18,5))\n",
    "plt.bar(left, height, tick_label = tick_label,\n",
    "        width = 0.5, color = ['red'])\n",
    "for i, v in enumerate(height):\n",
    "    plt.text(i, v, str(round(v,4)), \n",
    "            color = 'blue')\n",
    "    if v >= 0.99:\n",
    "        plt.bar(left[i], height[i],\n",
    "        width = 0.5, color = ['green'])\n",
    " \n",
    "plt.xlabel('Weakly Hard Constrains')\n",
    "plt.ylabel('Probability of omega belongs to the constrain')\n",
    "plt.title('P/multiple C')\n",
    "plt.show()\n",
    "\"\"\"\n"
   ]
  }
 ],
 "metadata": {
  "kernelspec": {
   "display_name": "Julia 1.10.0",
   "language": "julia",
   "name": "julia-1.10"
  },
  "language_info": {
   "file_extension": ".jl",
   "mimetype": "application/julia",
   "name": "julia",
   "version": "1.10.0"
  },
  "orig_nbformat": 4
 },
 "nbformat": 4,
 "nbformat_minor": 2
}
